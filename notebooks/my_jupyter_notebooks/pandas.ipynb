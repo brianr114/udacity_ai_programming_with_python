{
 "cells": [
  {
   "cell_type": "markdown",
   "id": "cd956a05",
   "metadata": {},
   "source": [
    "# PANDAS SERIES"
   ]
  },
  {
   "cell_type": "code",
   "execution_count": 1,
   "id": "7cd59079",
   "metadata": {},
   "outputs": [],
   "source": [
    "import pandas as pd\n",
    "import numpy as np"
   ]
  },
  {
   "cell_type": "markdown",
   "id": "7976ad52",
   "metadata": {},
   "source": [
    "### SERIES CREATION, ILOC, AND LOC\n",
    "Series create(data, index)<br>\n",
    "iloc is index location<br>\n",
    "loc is index by name location\n",
    "Accessing elements in dataframe: dataframe[column][row]"
   ]
  },
  {
   "cell_type": "code",
   "execution_count": 2,
   "id": "aa9375c9",
   "metadata": {},
   "outputs": [
    {
     "data": {
      "text/plain": [
       "eggs       30\n",
       "apples      6\n",
       "milk      Yes\n",
       "bread      No\n",
       "dtype: object"
      ]
     },
     "execution_count": 2,
     "metadata": {},
     "output_type": "execute_result"
    }
   ],
   "source": [
    "groceries = pd.Series(data = [30, 6, 'Yes', 'No'], index = ['eggs', 'apples', 'milk', 'bread'])\n",
    "groceries"
   ]
  },
  {
   "cell_type": "code",
   "execution_count": 3,
   "id": "e0c81195",
   "metadata": {},
   "outputs": [
    {
     "name": "stdout",
     "output_type": "stream",
     "text": [
      "Shape of groceries:  (4,)\n",
      "Dimsion of groceries:  1\n",
      "Total elements in groceries:  4\n"
     ]
    }
   ],
   "source": [
    "print('Shape of groceries: ', groceries.shape)\n",
    "print('Dimsion of groceries: ', groceries.ndim)\n",
    "print('Total elements in groceries: ', groceries.size)"
   ]
  },
  {
   "cell_type": "code",
   "execution_count": 4,
   "id": "6eaf782e",
   "metadata": {},
   "outputs": [
    {
     "name": "stdout",
     "output_type": "stream",
     "text": [
      "Bananas in groceries?  False\n",
      "Bread in groceries?  True\n"
     ]
    }
   ],
   "source": [
    "x = 'bananas' in groceries\n",
    "y = 'bread' in groceries\n",
    "print('Bananas in groceries? ', x)\n",
    "print('Bread in groceries? ', y)"
   ]
  },
  {
   "cell_type": "code",
   "execution_count": 5,
   "id": "7aa4c820",
   "metadata": {},
   "outputs": [
    {
     "name": "stdout",
     "output_type": "stream",
     "text": [
      "30\n",
      "eggs     30\n",
      "bread    No\n",
      "dtype: object\n"
     ]
    }
   ],
   "source": [
    "print(groceries['eggs'])\n",
    "print(groceries[['eggs', 'bread']])"
   ]
  },
  {
   "cell_type": "code",
   "execution_count": 6,
   "id": "69b34354",
   "metadata": {},
   "outputs": [
    {
     "name": "stdout",
     "output_type": "stream",
     "text": [
      "30 \n",
      "\n",
      "No \n",
      "\n",
      "apples      6\n",
      "milk      Yes\n",
      "dtype: object\n"
     ]
    }
   ],
   "source": [
    "print(groceries[0], '\\n')\n",
    "print(groceries[-1], '\\n')\n",
    "print(groceries[[1, 2]])"
   ]
  },
  {
   "cell_type": "code",
   "execution_count": 7,
   "id": "7cd7dfc1",
   "metadata": {},
   "outputs": [
    {
     "name": "stdout",
     "output_type": "stream",
     "text": [
      "12\n"
     ]
    }
   ],
   "source": [
    "groceries['eggs'] = 12\n",
    "print(groceries['eggs'])"
   ]
  },
  {
   "cell_type": "code",
   "execution_count": 8,
   "id": "098a76df",
   "metadata": {},
   "outputs": [
    {
     "name": "stdout",
     "output_type": "stream",
     "text": [
      "eggs      12\n",
      "milk     Yes\n",
      "bread     No\n",
      "dtype: object \n",
      "\n",
      "eggs       12\n",
      "apples      6\n",
      "milk      Yes\n",
      "bread      No\n",
      "dtype: object\n"
     ]
    }
   ],
   "source": [
    "print(groceries.drop('apples'), '\\n')\n",
    "print(groceries)"
   ]
  },
  {
   "cell_type": "code",
   "execution_count": 9,
   "id": "1ff6576f",
   "metadata": {},
   "outputs": [
    {
     "name": "stdout",
     "output_type": "stream",
     "text": [
      "eggs       12\n",
      "apples      6\n",
      "milk      Yes\n",
      "bread      No\n",
      "dtype: object \n",
      "\n",
      "eggs      12\n",
      "milk     Yes\n",
      "bread     No\n",
      "dtype: object\n"
     ]
    }
   ],
   "source": [
    "print(groceries, '\\n')\n",
    "groceries.drop('apples', inplace = True)\n",
    "print(groceries)"
   ]
  },
  {
   "cell_type": "code",
   "execution_count": 10,
   "id": "f75b6a8e",
   "metadata": {},
   "outputs": [
    {
     "name": "stdout",
     "output_type": "stream",
     "text": [
      "apples     10\n",
      "oranges     6\n",
      "bananas     3\n",
      "dtype: int64\n"
     ]
    }
   ],
   "source": [
    "fruits = pd.Series([10, 6, 3], ['apples', 'oranges', 'bananas'])\n",
    "print(fruits)"
   ]
  },
  {
   "cell_type": "code",
   "execution_count": 11,
   "id": "25670068",
   "metadata": {},
   "outputs": [
    {
     "name": "stdout",
     "output_type": "stream",
     "text": [
      "apples     11\n",
      "oranges     7\n",
      "bananas     4\n",
      "dtype: int64 \n",
      "\n",
      "apples     9\n",
      "oranges    5\n",
      "bananas    2\n",
      "dtype: int64 \n",
      "\n",
      "apples     20\n",
      "oranges    12\n",
      "bananas     6\n",
      "dtype: int64 \n",
      "\n",
      "apples     5.0\n",
      "oranges    3.0\n",
      "bananas    1.5\n",
      "dtype: float64\n"
     ]
    }
   ],
   "source": [
    "print(fruits + 1, '\\n')\n",
    "print(fruits - 1, '\\n')\n",
    "print(fruits * 2, '\\n')\n",
    "print(fruits / 2)"
   ]
  },
  {
   "cell_type": "code",
   "execution_count": 12,
   "id": "af505ba7",
   "metadata": {},
   "outputs": [
    {
     "name": "stdout",
     "output_type": "stream",
     "text": [
      "apples     100\n",
      "oranges     36\n",
      "bananas      9\n",
      "dtype: int64\n"
     ]
    }
   ],
   "source": [
    "print(np.power(fruits, 2))"
   ]
  },
  {
   "cell_type": "code",
   "execution_count": 13,
   "id": "8ea2efdd",
   "metadata": {},
   "outputs": [
    {
     "name": "stdout",
     "output_type": "stream",
     "text": [
      "eggs         24\n",
      "milk     YesYes\n",
      "bread      NoNo\n",
      "dtype: object\n"
     ]
    }
   ],
   "source": [
    "print(groceries * 2) #as long as all elements support operation, operation will run"
   ]
  },
  {
   "cell_type": "markdown",
   "id": "48c635a6",
   "metadata": {},
   "source": [
    "# PANDAS DATAFRAME"
   ]
  },
  {
   "cell_type": "code",
   "execution_count": 14,
   "id": "873ff308",
   "metadata": {},
   "outputs": [
    {
     "name": "stdout",
     "output_type": "stream",
     "text": [
      "<class 'dict'>\n",
      "{'Bob': bike     245\n",
      "pants     25\n",
      "watch     55\n",
      "dtype: int64, 'Alice': book        40\n",
      "glasses    110\n",
      "bike       500\n",
      "pants       45\n",
      "dtype: int64}\n"
     ]
    }
   ],
   "source": [
    "items = {'Bob': pd.Series([245, 25, 55], ['bike', 'pants', 'watch']),\n",
    "         'Alice': pd.Series([40, 110, 500, 45], ['book', 'glasses', 'bike', 'pants'])}\n",
    "print(type(items))\n",
    "print(items)"
   ]
  },
  {
   "cell_type": "code",
   "execution_count": 15,
   "id": "41df6cff",
   "metadata": {},
   "outputs": [
    {
     "name": "stdout",
     "output_type": "stream",
     "text": [
      "           Bob  Alice\n",
      "bike     245.0  500.0\n",
      "book       NaN   40.0\n",
      "glasses    NaN  110.0\n",
      "pants     25.0   45.0\n",
      "watch     55.0    NaN\n"
     ]
    }
   ],
   "source": [
    "carts = pd.DataFrame(items)\n",
    "print(carts)"
   ]
  },
  {
   "cell_type": "code",
   "execution_count": 16,
   "id": "433888a7",
   "metadata": {},
   "outputs": [
    {
     "name": "stdout",
     "output_type": "stream",
     "text": [
      "     Bob  Alice\n",
      "0  245.0     40\n",
      "1   25.0    110\n",
      "2   55.0    500\n",
      "3    NaN     45\n"
     ]
    }
   ],
   "source": [
    "data = {'Bob': pd.Series([245, 25, 55]),\n",
    "         'Alice': pd.Series([40, 110, 500, 45])}\n",
    "df = pd.DataFrame(data)\n",
    "print(df)\n"
   ]
  },
  {
   "cell_type": "code",
   "execution_count": 17,
   "id": "b1aeacea",
   "metadata": {},
   "outputs": [
    {
     "name": "stdout",
     "output_type": "stream",
     "text": [
      "Shape:  (5, 2)\n",
      "Dimension:  2\n",
      "Total number of elements:  10\n",
      "\n",
      "Carts data is:\n",
      " [[245. 500.]\n",
      " [ nan  40.]\n",
      " [ nan 110.]\n",
      " [ 25.  45.]\n",
      " [ 55.  nan]] \n",
      "\n",
      "Row index is:  Index(['bike', 'book', 'glasses', 'pants', 'watch'], dtype='object')\n",
      "Column index is:  Index(['Bob', 'Alice'], dtype='object')\n"
     ]
    }
   ],
   "source": [
    "print('Shape: ', carts.shape)\n",
    "print('Dimension: ', carts.ndim)\n",
    "print('Total number of elements: ', carts.size)\n",
    "print('\\nCarts data is:\\n', carts.values, '\\n')\n",
    "print('Row index is: ', carts.index)\n",
    "print('Column index is: ', carts.columns)"
   ]
  },
  {
   "cell_type": "code",
   "execution_count": 18,
   "id": "f82591bb",
   "metadata": {},
   "outputs": [
    {
     "name": "stdout",
     "output_type": "stream",
     "text": [
      "       Bob\n",
      "bike   245\n",
      "pants   25\n",
      "watch   55\n"
     ]
    }
   ],
   "source": [
    "# Create a dataframe that only has Bob's data\n",
    "bobs_cart = pd.DataFrame(items, columns = ['Bob'])\n",
    "print(bobs_cart)"
   ]
  },
  {
   "cell_type": "code",
   "execution_count": 19,
   "id": "9be0e2ad",
   "metadata": {},
   "outputs": [
    {
     "name": "stdout",
     "output_type": "stream",
     "text": [
      "        Bob  Alice\n",
      "pants  25.0     45\n",
      "book    NaN     40\n"
     ]
    }
   ],
   "source": [
    "# Select certain rows of a dataframe\n",
    "select_items = pd.DataFrame(items, index = ['pants', 'book'])\n",
    "print(select_items)"
   ]
  },
  {
   "cell_type": "code",
   "execution_count": 20,
   "id": "a8caab6c",
   "metadata": {},
   "outputs": [
    {
     "name": "stdout",
     "output_type": "stream",
     "text": [
      "         Alice\n",
      "glasses    110\n",
      "bike       500\n"
     ]
    }
   ],
   "source": [
    "# Select certain items only for Alice\n",
    "alice_select_cart = pd.DataFrame(items, index = ['glasses', 'bike'], columns = ['Alice'])\n",
    "print(alice_select_cart)"
   ]
  },
  {
   "cell_type": "code",
   "execution_count": 21,
   "id": "5b3bc618",
   "metadata": {},
   "outputs": [
    {
     "name": "stdout",
     "output_type": "stream",
     "text": [
      "        bikes  pants  watches  glasses\n",
      "store1     20     30       35      NaN\n",
      "store2     15      5       10     50.0\n"
     ]
    }
   ],
   "source": [
    "items2 = [{'bikes': 20, 'pants': 30, 'watches': 35},\n",
    "          {'watches': 10, 'glasses': 50, 'bikes': 15, 'pants': 5}]\n",
    "store_items = pd.DataFrame(items2, index = ['store1', 'store2'])\n",
    "print(store_items)"
   ]
  },
  {
   "cell_type": "code",
   "execution_count": 28,
   "id": "b1a186c8",
   "metadata": {},
   "outputs": [
    {
     "name": "stdout",
     "output_type": "stream",
     "text": [
      "Number of bikes:\n",
      "         bikes\n",
      "store1     20\n",
      "store2     15\n",
      "Bikes and pants:\n",
      "         bikes  pants\n",
      "store1     20     30\n",
      "store2     15      5\n",
      "Items in store 1\n",
      ":          bikes  pants  watches  glasses\n",
      "store1     20     30       35      NaN\n",
      "Bikes in store 2:  15\n"
     ]
    }
   ],
   "source": [
    "print('Number of bikes:\\n', store_items[['bikes']])\n",
    "print('Bikes and pants:\\n', store_items[['bikes', 'pants']])\n",
    "print('Items in store 1\\n: ', store_items.loc[['store1']])\n",
    "print('Bikes in store 2: ', store_items['bikes']['store2'])"
   ]
  },
  {
   "cell_type": "code",
   "execution_count": 30,
   "id": "c2580e02",
   "metadata": {},
   "outputs": [
    {
     "name": "stdout",
     "output_type": "stream",
     "text": [
      "        bikes  pants  watches  glasses  shirts\n",
      "store1     20     30       35      NaN      15\n",
      "store2     15      5       10     50.0       2\n"
     ]
    }
   ],
   "source": [
    "store_items['shirts'] = [15,2]\n",
    "print(store_items)"
   ]
  },
  {
   "cell_type": "code",
   "execution_count": 32,
   "id": "7db83e63",
   "metadata": {},
   "outputs": [
    {
     "name": "stdout",
     "output_type": "stream",
     "text": [
      "        bikes  pants  watches  glasses  shirts  suits\n",
      "store1     20     30       35      NaN      15     45\n",
      "store2     15      5       10     50.0       2      7\n"
     ]
    }
   ],
   "source": [
    "store_items['suits'] = store_items['pants'] + store_items['shirts']\n",
    "print(store_items)"
   ]
  },
  {
   "cell_type": "code",
   "execution_count": 42,
   "id": "ed8c43f1",
   "metadata": {},
   "outputs": [
    {
     "name": "stdout",
     "output_type": "stream",
     "text": [
      "        pants  watches  glasses  bikes\n",
      "store3     30       35        4     20 \n",
      "\n",
      "        bikes  pants  watches  glasses  shoes  shirts  suits\n",
      "store1     20     30       35      NaN    8.0    15.0   45.0\n",
      "store2     15      5       10     50.0    5.0     2.0    7.0\n",
      "store3     20     30       35      4.0    NaN     NaN    NaN\n"
     ]
    }
   ],
   "source": [
    "# Adding a new row to a dataframe\n",
    "# Create a dictionary\n",
    "new_items = [{'pants': 30, 'watches': 35, 'glasses': 4, 'bikes': 20}]\n",
    "new_store = pd.DataFrame(new_items, index = ['store3'])\n",
    "print(new_store, '\\n')\n",
    "store_items = store_items.append(new_store)\n",
    "print(store_items)"
   ]
  },
  {
   "cell_type": "code",
   "execution_count": 43,
   "id": "645d05f8",
   "metadata": {},
   "outputs": [
    {
     "name": "stdout",
     "output_type": "stream",
     "text": [
      "        bikes  pants  watches  glasses  shoes  shirts  suits  new_watches\n",
      "store1     20     30       35      NaN    8.0    15.0   45.0          NaN\n",
      "store2     15      5       10     50.0    5.0     2.0    7.0         10.0\n",
      "store3     20     30       35      4.0    NaN     NaN    NaN         35.0\n"
     ]
    }
   ],
   "source": [
    "# Adding a new column composed of data from existing columns\n",
    "store_items['new_watches'] = store_items['watches'][1:]\n",
    "print(store_items)"
   ]
  },
  {
   "cell_type": "code",
   "execution_count": 50,
   "id": "e85f3d2d",
   "metadata": {},
   "outputs": [
    {
     "name": "stdout",
     "output_type": "stream",
     "text": [
      "        bikes  pants  watches  glasses  shoes  shirts  suits  new_watches\n",
      "store1     20     30       35      NaN      8    15.0   45.0          NaN\n",
      "store2     15      5       10     50.0      5     2.0    7.0         10.0\n",
      "store3     20     30       35      4.0      0     NaN    NaN         35.0\n"
     ]
    }
   ],
   "source": [
    "# Insert a column at a specific index\n",
    "store_items.insert(4, 'shoes', [8, 5, 0])\n",
    "print(store_items)"
   ]
  },
  {
   "cell_type": "markdown",
   "id": "387a6776",
   "metadata": {},
   "source": [
    "### DELETING ROWS/COLUMNS IN DATAFRAME\n",
    ".POP() deletes columns<br>\n",
    ".DROP() deletes rows or columns by use of AXIS"
   ]
  },
  {
   "cell_type": "code",
   "execution_count": 49,
   "id": "30c0b019",
   "metadata": {},
   "outputs": [
    {
     "name": "stdout",
     "output_type": "stream",
     "text": [
      "        bikes  pants  watches  glasses  shirts  suits  new_watches\n",
      "store1     20     30       35      NaN    15.0   45.0          NaN\n",
      "store2     15      5       10     50.0     2.0    7.0         10.0\n",
      "store3     20     30       35      4.0     NaN    NaN         35.0\n"
     ]
    }
   ],
   "source": [
    "# Delete a row (axis = 0) or column (axis = 1)\n",
    "store_items = store_items.drop(['shoes'], axis = 1)\n",
    "print(store_items)"
   ]
  },
  {
   "cell_type": "code",
   "execution_count": 52,
   "id": "c37ff742",
   "metadata": {},
   "outputs": [
    {
     "name": "stdout",
     "output_type": "stream",
     "text": [
      "        hats  pants  watches  glasses  shoes  shirts  suits  new_watches\n",
      "store1    20     30       35      NaN      8    15.0   45.0          NaN\n",
      "store2    15      5       10     50.0      5     2.0    7.0         10.0\n",
      "store3    20     30       35      4.0      0     NaN    NaN         35.0\n"
     ]
    }
   ],
   "source": [
    "# Rename a column\n",
    "store_items = store_items.rename(columns = {'bikes': 'hats'})\n",
    "print(store_items)"
   ]
  },
  {
   "cell_type": "code",
   "execution_count": 53,
   "id": "ece9f2ff",
   "metadata": {},
   "outputs": [
    {
     "name": "stdout",
     "output_type": "stream",
     "text": [
      "            hats  pants  watches  glasses  shoes  shirts  suits  new_watches\n",
      "store1        20     30       35      NaN      8    15.0   45.0          NaN\n",
      "store2        15      5       10     50.0      5     2.0    7.0         10.0\n",
      "last_store    20     30       35      4.0      0     NaN    NaN         35.0\n"
     ]
    }
   ],
   "source": [
    "# Rename a row\n",
    "store_items = store_items.rename(index = {'store3': 'last_store'})\n",
    "print(store_items)"
   ]
  },
  {
   "cell_type": "code",
   "execution_count": 54,
   "id": "557ff10d",
   "metadata": {},
   "outputs": [
    {
     "name": "stdout",
     "output_type": "stream",
     "text": [
      "            hats  pants  watches  glasses  shoes  shirts  suits  new_watches\n",
      "store1        20     30       35      NaN      8    15.0   45.0          NaN\n",
      "store2        15      5       10     50.0      5     2.0    7.0         10.0\n",
      "last_store    20     30       35      4.0      0     NaN    NaN         35.0 \n",
      "\n",
      "       hats  watches  glasses  shoes  shirts  suits  new_watches\n",
      "pants                                                           \n",
      "30       20       35      NaN      8    15.0   45.0          NaN\n",
      "5        15       10     50.0      5     2.0    7.0         10.0\n",
      "30       20       35      4.0      0     NaN    NaN         35.0\n"
     ]
    }
   ],
   "source": [
    "# Use existing column values as row-index\n",
    "print(store_items, '\\n')\n",
    "store_items = store_items.set_index('pants')\n",
    "print(store_items)"
   ]
  }
 ],
 "metadata": {
  "kernelspec": {
   "display_name": "Python 3",
   "language": "python",
   "name": "python3"
  },
  "language_info": {
   "codemirror_mode": {
    "name": "ipython",
    "version": 3
   },
   "file_extension": ".py",
   "mimetype": "text/x-python",
   "name": "python",
   "nbconvert_exporter": "python",
   "pygments_lexer": "ipython3",
   "version": "3.8.10"
  }
 },
 "nbformat": 4,
 "nbformat_minor": 5
}
