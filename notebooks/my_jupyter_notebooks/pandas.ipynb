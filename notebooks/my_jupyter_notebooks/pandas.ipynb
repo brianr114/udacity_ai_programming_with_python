{
 "cells": [
  {
   "cell_type": "markdown",
   "id": "cd956a05",
   "metadata": {},
   "source": [
    "# PANDAS SERIES"
   ]
  },
  {
   "cell_type": "code",
   "execution_count": 1,
   "id": "7cd59079",
   "metadata": {},
   "outputs": [],
   "source": [
    "import pandas as pd\n",
    "import numpy as np"
   ]
  },
  {
   "cell_type": "markdown",
   "id": "7976ad52",
   "metadata": {},
   "source": [
    "### SERIES CREATION, ILOC, AND LOC\n",
    "Series create(data, index)<br>\n",
    "iloc is index location<br>\n",
    "loc is index by name location\n",
    "Accessing elements in dataframe: dataframe[column][row]"
   ]
  },
  {
   "cell_type": "code",
   "execution_count": 2,
   "id": "aa9375c9",
   "metadata": {},
   "outputs": [
    {
     "data": {
      "text/plain": [
       "eggs       30\n",
       "apples      6\n",
       "milk      Yes\n",
       "bread      No\n",
       "dtype: object"
      ]
     },
     "execution_count": 2,
     "metadata": {},
     "output_type": "execute_result"
    }
   ],
   "source": [
    "groceries = pd.Series(data = [30, 6, 'Yes', 'No'], index = ['eggs', 'apples', 'milk', 'bread'])\n",
    "groceries"
   ]
  },
  {
   "cell_type": "code",
   "execution_count": 3,
   "id": "e0c81195",
   "metadata": {},
   "outputs": [
    {
     "name": "stdout",
     "output_type": "stream",
     "text": [
      "Shape of groceries:  (4,)\n",
      "Dimsion of groceries:  1\n",
      "Total elements in groceries:  4\n"
     ]
    }
   ],
   "source": [
    "print('Shape of groceries: ', groceries.shape)\n",
    "print('Dimsion of groceries: ', groceries.ndim)\n",
    "print('Total elements in groceries: ', groceries.size)"
   ]
  },
  {
   "cell_type": "code",
   "execution_count": 4,
   "id": "6eaf782e",
   "metadata": {},
   "outputs": [
    {
     "name": "stdout",
     "output_type": "stream",
     "text": [
      "Bananas in groceries?  False\n",
      "Bread in groceries?  True\n"
     ]
    }
   ],
   "source": [
    "x = 'bananas' in groceries\n",
    "y = 'bread' in groceries\n",
    "print('Bananas in groceries? ', x)\n",
    "print('Bread in groceries? ', y)"
   ]
  },
  {
   "cell_type": "code",
   "execution_count": 5,
   "id": "7aa4c820",
   "metadata": {},
   "outputs": [
    {
     "name": "stdout",
     "output_type": "stream",
     "text": [
      "30\n",
      "eggs     30\n",
      "bread    No\n",
      "dtype: object\n"
     ]
    }
   ],
   "source": [
    "print(groceries['eggs'])\n",
    "print(groceries[['eggs', 'bread']])"
   ]
  },
  {
   "cell_type": "code",
   "execution_count": 6,
   "id": "69b34354",
   "metadata": {},
   "outputs": [
    {
     "name": "stdout",
     "output_type": "stream",
     "text": [
      "30 \n",
      "\n",
      "No \n",
      "\n",
      "apples      6\n",
      "milk      Yes\n",
      "dtype: object\n"
     ]
    }
   ],
   "source": [
    "print(groceries[0], '\\n')\n",
    "print(groceries[-1], '\\n')\n",
    "print(groceries[[1, 2]])"
   ]
  },
  {
   "cell_type": "code",
   "execution_count": 7,
   "id": "7cd7dfc1",
   "metadata": {},
   "outputs": [
    {
     "name": "stdout",
     "output_type": "stream",
     "text": [
      "12\n"
     ]
    }
   ],
   "source": [
    "groceries['eggs'] = 12\n",
    "print(groceries['eggs'])"
   ]
  },
  {
   "cell_type": "code",
   "execution_count": 8,
   "id": "098a76df",
   "metadata": {},
   "outputs": [
    {
     "name": "stdout",
     "output_type": "stream",
     "text": [
      "eggs      12\n",
      "milk     Yes\n",
      "bread     No\n",
      "dtype: object \n",
      "\n",
      "eggs       12\n",
      "apples      6\n",
      "milk      Yes\n",
      "bread      No\n",
      "dtype: object\n"
     ]
    }
   ],
   "source": [
    "print(groceries.drop('apples'), '\\n')\n",
    "print(groceries)"
   ]
  },
  {
   "cell_type": "code",
   "execution_count": 9,
   "id": "1ff6576f",
   "metadata": {},
   "outputs": [
    {
     "name": "stdout",
     "output_type": "stream",
     "text": [
      "eggs       12\n",
      "apples      6\n",
      "milk      Yes\n",
      "bread      No\n",
      "dtype: object \n",
      "\n",
      "eggs      12\n",
      "milk     Yes\n",
      "bread     No\n",
      "dtype: object\n"
     ]
    }
   ],
   "source": [
    "print(groceries, '\\n')\n",
    "groceries.drop('apples', inplace = True)\n",
    "print(groceries)"
   ]
  },
  {
   "cell_type": "code",
   "execution_count": 10,
   "id": "f75b6a8e",
   "metadata": {},
   "outputs": [
    {
     "name": "stdout",
     "output_type": "stream",
     "text": [
      "apples     10\n",
      "oranges     6\n",
      "bananas     3\n",
      "dtype: int64\n"
     ]
    }
   ],
   "source": [
    "fruits = pd.Series([10, 6, 3], ['apples', 'oranges', 'bananas'])\n",
    "print(fruits)"
   ]
  },
  {
   "cell_type": "code",
   "execution_count": 11,
   "id": "25670068",
   "metadata": {},
   "outputs": [
    {
     "name": "stdout",
     "output_type": "stream",
     "text": [
      "apples     11\n",
      "oranges     7\n",
      "bananas     4\n",
      "dtype: int64 \n",
      "\n",
      "apples     9\n",
      "oranges    5\n",
      "bananas    2\n",
      "dtype: int64 \n",
      "\n",
      "apples     20\n",
      "oranges    12\n",
      "bananas     6\n",
      "dtype: int64 \n",
      "\n",
      "apples     5.0\n",
      "oranges    3.0\n",
      "bananas    1.5\n",
      "dtype: float64\n"
     ]
    }
   ],
   "source": [
    "print(fruits + 1, '\\n')\n",
    "print(fruits - 1, '\\n')\n",
    "print(fruits * 2, '\\n')\n",
    "print(fruits / 2)"
   ]
  },
  {
   "cell_type": "code",
   "execution_count": 12,
   "id": "af505ba7",
   "metadata": {},
   "outputs": [
    {
     "name": "stdout",
     "output_type": "stream",
     "text": [
      "apples     100\n",
      "oranges     36\n",
      "bananas      9\n",
      "dtype: int64\n"
     ]
    }
   ],
   "source": [
    "print(np.power(fruits, 2))"
   ]
  },
  {
   "cell_type": "code",
   "execution_count": 13,
   "id": "8ea2efdd",
   "metadata": {},
   "outputs": [
    {
     "name": "stdout",
     "output_type": "stream",
     "text": [
      "eggs         24\n",
      "milk     YesYes\n",
      "bread      NoNo\n",
      "dtype: object\n"
     ]
    }
   ],
   "source": [
    "print(groceries * 2) #as long as all elements support operation, operation will run"
   ]
  },
  {
   "cell_type": "markdown",
   "id": "48c635a6",
   "metadata": {},
   "source": [
    "# PANDAS DATAFRAME"
   ]
  },
  {
   "cell_type": "code",
   "execution_count": 14,
   "id": "873ff308",
   "metadata": {},
   "outputs": [
    {
     "name": "stdout",
     "output_type": "stream",
     "text": [
      "<class 'dict'>\n",
      "{'Bob': bike     245\n",
      "pants     25\n",
      "watch     55\n",
      "dtype: int64, 'Alice': book        40\n",
      "glasses    110\n",
      "bike       500\n",
      "pants       45\n",
      "dtype: int64}\n"
     ]
    }
   ],
   "source": [
    "items = {'Bob': pd.Series([245, 25, 55], ['bike', 'pants', 'watch']),\n",
    "         'Alice': pd.Series([40, 110, 500, 45], ['book', 'glasses', 'bike', 'pants'])}\n",
    "print(type(items))\n",
    "print(items)"
   ]
  },
  {
   "cell_type": "code",
   "execution_count": 15,
   "id": "41df6cff",
   "metadata": {},
   "outputs": [
    {
     "name": "stdout",
     "output_type": "stream",
     "text": [
      "           Bob  Alice\n",
      "bike     245.0  500.0\n",
      "book       NaN   40.0\n",
      "glasses    NaN  110.0\n",
      "pants     25.0   45.0\n",
      "watch     55.0    NaN\n"
     ]
    }
   ],
   "source": [
    "carts = pd.DataFrame(items)\n",
    "print(carts)"
   ]
  },
  {
   "cell_type": "code",
   "execution_count": 16,
   "id": "433888a7",
   "metadata": {},
   "outputs": [
    {
     "name": "stdout",
     "output_type": "stream",
     "text": [
      "     Bob  Alice\n",
      "0  245.0     40\n",
      "1   25.0    110\n",
      "2   55.0    500\n",
      "3    NaN     45\n"
     ]
    }
   ],
   "source": [
    "data = {'Bob': pd.Series([245, 25, 55]),\n",
    "         'Alice': pd.Series([40, 110, 500, 45])}\n",
    "df = pd.DataFrame(data)\n",
    "print(df)\n"
   ]
  },
  {
   "cell_type": "code",
   "execution_count": 17,
   "id": "b1aeacea",
   "metadata": {},
   "outputs": [
    {
     "name": "stdout",
     "output_type": "stream",
     "text": [
      "Shape:  (5, 2)\n",
      "Dimension:  2\n",
      "Total number of elements:  10\n",
      "\n",
      "Carts data is:\n",
      " [[245. 500.]\n",
      " [ nan  40.]\n",
      " [ nan 110.]\n",
      " [ 25.  45.]\n",
      " [ 55.  nan]] \n",
      "\n",
      "Row index is:  Index(['bike', 'book', 'glasses', 'pants', 'watch'], dtype='object')\n",
      "Column index is:  Index(['Bob', 'Alice'], dtype='object')\n"
     ]
    }
   ],
   "source": [
    "print('Shape: ', carts.shape)\n",
    "print('Dimension: ', carts.ndim)\n",
    "print('Total number of elements: ', carts.size)\n",
    "print('\\nCarts data is:\\n', carts.values, '\\n')\n",
    "print('Row index is: ', carts.index)\n",
    "print('Column index is: ', carts.columns)"
   ]
  },
  {
   "cell_type": "code",
   "execution_count": 18,
   "id": "f82591bb",
   "metadata": {},
   "outputs": [
    {
     "name": "stdout",
     "output_type": "stream",
     "text": [
      "       Bob\n",
      "bike   245\n",
      "pants   25\n",
      "watch   55\n"
     ]
    }
   ],
   "source": [
    "# Create a dataframe that only has Bob's data\n",
    "bobs_cart = pd.DataFrame(items, columns = ['Bob'])\n",
    "print(bobs_cart)"
   ]
  },
  {
   "cell_type": "code",
   "execution_count": 19,
   "id": "9be0e2ad",
   "metadata": {},
   "outputs": [
    {
     "name": "stdout",
     "output_type": "stream",
     "text": [
      "        Bob  Alice\n",
      "pants  25.0     45\n",
      "book    NaN     40\n"
     ]
    }
   ],
   "source": [
    "# Select certain rows of a dataframe\n",
    "select_items = pd.DataFrame(items, index = ['pants', 'book'])\n",
    "print(select_items)"
   ]
  },
  {
   "cell_type": "code",
   "execution_count": 20,
   "id": "a8caab6c",
   "metadata": {},
   "outputs": [
    {
     "name": "stdout",
     "output_type": "stream",
     "text": [
      "         Alice\n",
      "glasses    110\n",
      "bike       500\n"
     ]
    }
   ],
   "source": [
    "# Select certain items only for Alice\n",
    "alice_select_cart = pd.DataFrame(items, index = ['glasses', 'bike'], columns = ['Alice'])\n",
    "print(alice_select_cart)"
   ]
  },
  {
   "cell_type": "code",
   "execution_count": 21,
   "id": "5b3bc618",
   "metadata": {},
   "outputs": [
    {
     "name": "stdout",
     "output_type": "stream",
     "text": [
      "        bikes  pants  watches  glasses\n",
      "store1     20     30       35      NaN\n",
      "store2     15      5       10     50.0\n"
     ]
    }
   ],
   "source": [
    "items2 = [{'bikes': 20, 'pants': 30, 'watches': 35},\n",
    "          {'watches': 10, 'glasses': 50, 'bikes': 15, 'pants': 5}]\n",
    "store_items = pd.DataFrame(items2, index = ['store1', 'store2'])\n",
    "print(store_items)"
   ]
  },
  {
   "cell_type": "code",
   "execution_count": 22,
   "id": "b1a186c8",
   "metadata": {},
   "outputs": [
    {
     "name": "stdout",
     "output_type": "stream",
     "text": [
      "Number of bikes:\n",
      "         bikes\n",
      "store1     20\n",
      "store2     15\n",
      "Bikes and pants:\n",
      "         bikes  pants\n",
      "store1     20     30\n",
      "store2     15      5\n",
      "Items in store 1\n",
      ":          bikes  pants  watches  glasses\n",
      "store1     20     30       35      NaN\n",
      "Bikes in store 2:  15\n"
     ]
    }
   ],
   "source": [
    "print('Number of bikes:\\n', store_items[['bikes']])\n",
    "print('Bikes and pants:\\n', store_items[['bikes', 'pants']])\n",
    "print('Items in store 1\\n: ', store_items.loc[['store1']])\n",
    "print('Bikes in store 2: ', store_items['bikes']['store2'])"
   ]
  },
  {
   "cell_type": "code",
   "execution_count": 23,
   "id": "c2580e02",
   "metadata": {},
   "outputs": [
    {
     "name": "stdout",
     "output_type": "stream",
     "text": [
      "        bikes  pants  watches  glasses  shirts\n",
      "store1     20     30       35      NaN      15\n",
      "store2     15      5       10     50.0       2\n"
     ]
    }
   ],
   "source": [
    "store_items['shirts'] = [15,2]\n",
    "print(store_items)"
   ]
  },
  {
   "cell_type": "code",
   "execution_count": 24,
   "id": "7db83e63",
   "metadata": {},
   "outputs": [
    {
     "name": "stdout",
     "output_type": "stream",
     "text": [
      "        bikes  pants  watches  glasses  shirts  suits\n",
      "store1     20     30       35      NaN      15     45\n",
      "store2     15      5       10     50.0       2      7\n"
     ]
    }
   ],
   "source": [
    "store_items['suits'] = store_items['pants'] + store_items['shirts']\n",
    "print(store_items)"
   ]
  },
  {
   "cell_type": "code",
   "execution_count": 25,
   "id": "ed8c43f1",
   "metadata": {},
   "outputs": [
    {
     "name": "stdout",
     "output_type": "stream",
     "text": [
      "        pants  watches  glasses  bikes\n",
      "store3     30       35        4     20 \n",
      "\n",
      "        bikes  pants  watches  glasses  shirts  suits\n",
      "store1     20     30       35      NaN    15.0   45.0\n",
      "store2     15      5       10     50.0     2.0    7.0\n",
      "store3     20     30       35      4.0     NaN    NaN\n"
     ]
    }
   ],
   "source": [
    "# Adding a new row to a dataframe\n",
    "# Create a dictionary\n",
    "new_items = [{'pants': 30, 'watches': 35, 'glasses': 4, 'bikes': 20}]\n",
    "new_store = pd.DataFrame(new_items, index = ['store3'])\n",
    "print(new_store, '\\n')\n",
    "store_items = store_items.append(new_store)\n",
    "print(store_items)"
   ]
  },
  {
   "cell_type": "code",
   "execution_count": 26,
   "id": "645d05f8",
   "metadata": {},
   "outputs": [
    {
     "name": "stdout",
     "output_type": "stream",
     "text": [
      "        bikes  pants  watches  glasses  shirts  suits  new_watches\n",
      "store1     20     30       35      NaN    15.0   45.0          NaN\n",
      "store2     15      5       10     50.0     2.0    7.0         10.0\n",
      "store3     20     30       35      4.0     NaN    NaN         35.0\n"
     ]
    }
   ],
   "source": [
    "# Adding a new column composed of data from existing columns\n",
    "store_items['new_watches'] = store_items['watches'][1:]\n",
    "print(store_items)"
   ]
  },
  {
   "cell_type": "code",
   "execution_count": 27,
   "id": "e85f3d2d",
   "metadata": {},
   "outputs": [
    {
     "name": "stdout",
     "output_type": "stream",
     "text": [
      "        bikes  pants  watches  glasses  shoes  shirts  suits  new_watches\n",
      "store1     20     30       35      NaN      8    15.0   45.0          NaN\n",
      "store2     15      5       10     50.0      5     2.0    7.0         10.0\n",
      "store3     20     30       35      4.0      0     NaN    NaN         35.0\n"
     ]
    }
   ],
   "source": [
    "# Insert a column at a specific index\n",
    "store_items.insert(4, 'shoes', [8, 5, 0])\n",
    "print(store_items)"
   ]
  },
  {
   "cell_type": "markdown",
   "id": "387a6776",
   "metadata": {},
   "source": [
    "### DELETING ROWS/COLUMNS IN DATAFRAME\n",
    ".POP() deletes columns<br>\n",
    ".DROP() deletes rows or columns by use of AXIS"
   ]
  },
  {
   "cell_type": "code",
   "execution_count": 28,
   "id": "30c0b019",
   "metadata": {},
   "outputs": [
    {
     "name": "stdout",
     "output_type": "stream",
     "text": [
      "        bikes  pants  watches  glasses  shirts  suits  new_watches\n",
      "store1     20     30       35      NaN    15.0   45.0          NaN\n",
      "store2     15      5       10     50.0     2.0    7.0         10.0\n",
      "store3     20     30       35      4.0     NaN    NaN         35.0\n"
     ]
    }
   ],
   "source": [
    "# Delete a row (axis = 0) or column (axis = 1)\n",
    "store_items = store_items.drop(['shoes'], axis = 1)\n",
    "print(store_items)"
   ]
  },
  {
   "cell_type": "code",
   "execution_count": 29,
   "id": "c37ff742",
   "metadata": {},
   "outputs": [
    {
     "name": "stdout",
     "output_type": "stream",
     "text": [
      "        hats  pants  watches  glasses  shirts  suits  new_watches\n",
      "store1    20     30       35      NaN    15.0   45.0          NaN\n",
      "store2    15      5       10     50.0     2.0    7.0         10.0\n",
      "store3    20     30       35      4.0     NaN    NaN         35.0\n"
     ]
    }
   ],
   "source": [
    "# Rename a column\n",
    "store_items = store_items.rename(columns = {'bikes': 'hats'})\n",
    "print(store_items)"
   ]
  },
  {
   "cell_type": "code",
   "execution_count": 30,
   "id": "ece9f2ff",
   "metadata": {},
   "outputs": [
    {
     "name": "stdout",
     "output_type": "stream",
     "text": [
      "            hats  pants  watches  glasses  shirts  suits  new_watches\n",
      "store1        20     30       35      NaN    15.0   45.0          NaN\n",
      "store2        15      5       10     50.0     2.0    7.0         10.0\n",
      "last_store    20     30       35      4.0     NaN    NaN         35.0\n"
     ]
    }
   ],
   "source": [
    "# Rename a row\n",
    "store_items = store_items.rename(index = {'store3': 'last_store'})\n",
    "print(store_items)"
   ]
  },
  {
   "cell_type": "code",
   "execution_count": 31,
   "id": "557ff10d",
   "metadata": {},
   "outputs": [
    {
     "name": "stdout",
     "output_type": "stream",
     "text": [
      "            hats  pants  watches  glasses  shirts  suits  new_watches\n",
      "store1        20     30       35      NaN    15.0   45.0          NaN\n",
      "store2        15      5       10     50.0     2.0    7.0         10.0\n",
      "last_store    20     30       35      4.0     NaN    NaN         35.0 \n",
      "\n",
      "       hats  watches  glasses  shirts  suits  new_watches\n",
      "pants                                                    \n",
      "30       20       35      NaN    15.0   45.0          NaN\n",
      "5        15       10     50.0     2.0    7.0         10.0\n",
      "30       20       35      4.0     NaN    NaN         35.0\n"
     ]
    }
   ],
   "source": [
    "# Use existing column values as row-index\n",
    "print(store_items, '\\n')\n",
    "store_items = store_items.set_index('pants')\n",
    "print(store_items)"
   ]
  },
  {
   "cell_type": "markdown",
   "id": "812596a5",
   "metadata": {},
   "source": [
    "# DEALING WITH NaN"
   ]
  },
  {
   "cell_type": "code",
   "execution_count": 32,
   "id": "215ad271",
   "metadata": {},
   "outputs": [
    {
     "name": "stdout",
     "output_type": "stream",
     "text": [
      "         bikes  pants  watches  shirts  shoes  suits  glasses\n",
      "store 1     20     30       35    15.0      8   45.0      NaN\n",
      "store 2     15      5       10     2.0      5    7.0     50.0\n",
      "store 3     20     30       35     NaN     10    NaN      4.0\n"
     ]
    }
   ],
   "source": [
    "# Create DataFrame\n",
    "items2 = [{'bikes': 20, 'pants': 30, 'watches': 35, 'shirts': 15, 'shoes':8, 'suits':45},\n",
    "{'watches': 10, 'glasses': 50, 'bikes': 15, 'pants':5, 'shirts': 2, 'shoes':5, 'suits':7},\n",
    "{'bikes': 20, 'pants': 30, 'watches': 35, 'glasses': 4, 'shoes':10}]\n",
    "store_items = pd.DataFrame(items2, index = ['store 1', 'store 2', 'store 3'])\n",
    "print(store_items)"
   ]
  },
  {
   "cell_type": "code",
   "execution_count": 33,
   "id": "5d931b4f",
   "metadata": {},
   "outputs": [
    {
     "name": "stdout",
     "output_type": "stream",
     "text": [
      "Number of NaN values in DataFrame:  3\n",
      "Number of non-NaN values in DataFrame:  18\n"
     ]
    }
   ],
   "source": [
    "# Count number of NaN values\n",
    "x = store_items.isnull().sum().sum()\n",
    "y = store_items.count().sum()\n",
    "print('Number of NaN values in DataFrame: ', x)\n",
    "print('Number of non-NaN values in DataFrame: ', y)"
   ]
  },
  {
   "cell_type": "code",
   "execution_count": 34,
   "id": "e5f4b9f4",
   "metadata": {},
   "outputs": [
    {
     "name": "stdout",
     "output_type": "stream",
     "text": [
      "         bikes  pants  watches  shirts  shoes  suits  glasses\n",
      "store 1  False  False    False   False  False  False     True\n",
      "store 2  False  False    False   False  False  False    False\n",
      "store 3  False  False    False    True  False   True    False\n"
     ]
    }
   ],
   "source": [
    "null_frame = store_items.isnull()\n",
    "print(null_frame)"
   ]
  },
  {
   "cell_type": "markdown",
   "id": "b0f6d625",
   "metadata": {},
   "source": [
    "### REPLACE NaN VALUES"
   ]
  },
  {
   "cell_type": "code",
   "execution_count": 35,
   "id": "4ebc1ed1",
   "metadata": {},
   "outputs": [
    {
     "name": "stdout",
     "output_type": "stream",
     "text": [
      "Drop Columns with NaN:\n",
      "          bikes  pants  watches  shoes\n",
      "store 1     20     30       35      8\n",
      "store 2     15      5       10      5\n",
      "store 3     20     30       35     10\n",
      "\n",
      "Drop Rows with NaN:\n",
      "          bikes  pants  watches  shirts  shoes  suits  glasses\n",
      "store 2     15      5       10     2.0      5    7.0     50.0\n"
     ]
    }
   ],
   "source": [
    "# Drop rows/columns with NaN values\n",
    "print('Drop Columns with NaN:\\n', store_items.dropna(axis = 1))\n",
    "print()\n",
    "print('Drop Rows with NaN:\\n', store_items.dropna(axis = 0))"
   ]
  },
  {
   "cell_type": "code",
   "execution_count": 36,
   "id": "18991a7e",
   "metadata": {},
   "outputs": [
    {
     "name": "stdout",
     "output_type": "stream",
     "text": [
      "         bikes  pants  watches  shirts  shoes  suits  glasses\n",
      "store 1     20     30       35    15.0      8   45.0      0.0\n",
      "store 2     15      5       10     2.0      5    7.0     50.0\n",
      "store 3     20     30       35     0.0     10    0.0      4.0\n"
     ]
    }
   ],
   "source": [
    "# Subsituting NaN values\n",
    "print(store_items.fillna(0))"
   ]
  },
  {
   "cell_type": "markdown",
   "id": "a6e3e963",
   "metadata": {},
   "source": [
    "#### FILL NaN VALUES ACROSS AXES\n",
    "ffill = forward fill<br>\n",
    "backfill = backward fill<br>\n",
    "axis = 0: fill down the dataframe<br>\n",
    "axis = 1: fill across the dataframe"
   ]
  },
  {
   "cell_type": "code",
   "execution_count": 37,
   "id": "fccc8598",
   "metadata": {},
   "outputs": [
    {
     "name": "stdout",
     "output_type": "stream",
     "text": [
      "         bikes  pants  watches  shirts  shoes  suits  glasses\n",
      "store 1     20     30       35    15.0      8   45.0      NaN\n",
      "store 2     15      5       10     2.0      5    7.0     50.0\n",
      "store 3     20     30       35     NaN     10    NaN      4.0 \n",
      "\n",
      "         bikes  pants  watches  shirts  shoes  suits  glasses\n",
      "store 1     20     30       35    15.0      8   45.0      NaN\n",
      "store 2     15      5       10     2.0      5    7.0     50.0\n",
      "store 3     20     30       35     2.0     10    7.0      4.0 \n",
      "\n",
      "         bikes  pants  watches  shirts  shoes  suits  glasses\n",
      "store 1   20.0   30.0     35.0    15.0    8.0   45.0     45.0\n",
      "store 2   15.0    5.0     10.0     2.0    5.0    7.0     50.0\n",
      "store 3   20.0   30.0     35.0    35.0   10.0   10.0      4.0 \n",
      "\n",
      "         bikes  pants  watches  shirts  shoes  suits  glasses\n",
      "store 1     20     30       35    15.0      8   45.0     50.0\n",
      "store 2     15      5       10     2.0      5    7.0     50.0\n",
      "store 3     20     30       35     NaN     10    NaN      4.0 \n",
      "\n",
      "         bikes  pants  watches  shirts  shoes  suits  glasses\n",
      "store 1   20.0   30.0     35.0    15.0    8.0   45.0      NaN\n",
      "store 2   15.0    5.0     10.0     2.0    5.0    7.0     50.0\n",
      "store 3   20.0   30.0     35.0    10.0   10.0    4.0      4.0\n"
     ]
    }
   ],
   "source": [
    "print(store_items, '\\n')\n",
    "#fill with row above\n",
    "print(store_items.fillna(method = 'ffill', axis = 0), '\\n')\n",
    "#fill with column to left\n",
    "print(store_items.fillna(method = 'ffill', axis = 1), '\\n')\n",
    "#fill with row below\n",
    "print(store_items.fillna(method = 'backfill', axis = 0), '\\n')\n",
    "#fill with column to right\n",
    "print(store_items.fillna(method = 'backfill', axis = 1))"
   ]
  },
  {
   "cell_type": "code",
   "execution_count": 38,
   "id": "308e06a8",
   "metadata": {},
   "outputs": [
    {
     "name": "stdout",
     "output_type": "stream",
     "text": [
      "         bikes  pants  watches  shirts  shoes  suits  glasses\n",
      "store 1     20     30       35    15.0      8   45.0      NaN\n",
      "store 2     15      5       10     2.0      5    7.0     50.0\n",
      "store 3     20     30       35     NaN     10    NaN      4.0 \n",
      "\n",
      "         bikes  pants  watches  shirts  shoes  suits  glasses\n",
      "store 1     20     30       35    15.0      8   45.0      NaN\n",
      "store 2     15      5       10     2.0      5    7.0     50.0\n",
      "store 3     20     30       35     2.0     10    7.0      4.0 \n",
      "\n",
      "         bikes  pants  watches  shirts  shoes  suits  glasses\n",
      "store 1   20.0   30.0     35.0    15.0    8.0   45.0     45.0\n",
      "store 2   15.0    5.0     10.0     2.0    5.0    7.0     50.0\n",
      "store 3   20.0   30.0     35.0    22.5   10.0    7.0      4.0 \n",
      "\n"
     ]
    }
   ],
   "source": [
    "# Fill NaN using interpolation\n",
    "print(store_items, '\\n')\n",
    "# Interpolate down columns\n",
    "print(store_items.interpolate(method = 'linear', axis = 0), '\\n')\n",
    "# Interpolate across rows\n",
    "print(store_items.interpolate(method = 'linear', axis = 1), '\\n')"
   ]
  },
  {
   "cell_type": "markdown",
   "id": "57f70935",
   "metadata": {},
   "source": [
    "# LOADING DATA INTO PANDAS"
   ]
  },
  {
   "cell_type": "code",
   "execution_count": 39,
   "id": "399fe2d8",
   "metadata": {},
   "outputs": [
    {
     "name": "stdout",
     "output_type": "stream",
     "text": [
      "Stock is of type:  <class 'pandas.core.frame.DataFrame'>\n",
      "Stock has shape:  (3313, 7)\n"
     ]
    }
   ],
   "source": [
    "GOOG = pd.read_csv('./stocks.csv')\n",
    "print('Stock is of type: ', type(GOOG))\n",
    "print('Stock has shape: ', GOOG.shape)"
   ]
  },
  {
   "cell_type": "code",
   "execution_count": 40,
   "id": "0ad59cc9",
   "metadata": {},
   "outputs": [
    {
     "name": "stdout",
     "output_type": "stream",
     "text": [
      "         Date       Open       High        Low      Close  Adj Close    Volume\n",
      "0  2004-08-19  49.676899  51.693783  47.669952  49.845802  49.845802  44994500\n",
      "1  2004-08-20  50.178635  54.187561  49.925285  53.805050  53.805050  23005800\n",
      "2  2004-08-23  55.017166  56.373344  54.172661  54.346527  54.346527  18393200\n",
      "3  2004-08-24  55.260582  55.439419  51.450363  52.096165  52.096165  15361800\n",
      "4  2004-08-25  52.140873  53.651051  51.604362  52.657513  52.657513   9257400 \n",
      "\n",
      "            Date        Open        High         Low       Close   Adj Close  \\\n",
      "3303  2017-10-02  959.979980  962.539978  947.840027  953.270020  953.270020   \n",
      "3304  2017-10-03  954.000000  958.000000  949.140015  957.789978  957.789978   \n",
      "3305  2017-10-04  957.000000  960.390015  950.690002  951.679993  951.679993   \n",
      "3306  2017-10-05  955.489990  970.909973  955.179993  969.960022  969.960022   \n",
      "3307  2017-10-06  966.700012  979.460022  963.359985  978.890015  978.890015   \n",
      "3308  2017-10-09  980.000000  985.424988  976.109985  977.000000  977.000000   \n",
      "3309  2017-10-10  980.000000  981.570007  966.080017  972.599976  972.599976   \n",
      "3310  2017-10-11  973.719971  990.710022  972.250000  989.250000  989.250000   \n",
      "3311  2017-10-12  987.450012  994.119995  985.000000  987.830017  987.830017   \n",
      "3312  2017-10-13  992.000000  997.210022  989.000000  989.679993  989.679993   \n",
      "\n",
      "       Volume  \n",
      "3303  1283400  \n",
      "3304   888300  \n",
      "3305   952400  \n",
      "3306  1213800  \n",
      "3307  1173900  \n",
      "3308   891400  \n",
      "3309   968400  \n",
      "3310  1693300  \n",
      "3311  1262400  \n",
      "3312  1157700  \n"
     ]
    }
   ],
   "source": [
    "# Print the first or last entries of a dataset\n",
    "print(GOOG.head(), '\\n')\n",
    "print(GOOG.tail(10))"
   ]
  },
  {
   "cell_type": "code",
   "execution_count": 41,
   "id": "86e43898",
   "metadata": {},
   "outputs": [
    {
     "name": "stdout",
     "output_type": "stream",
     "text": [
      "Date         False\n",
      "Open         False\n",
      "High         False\n",
      "Low          False\n",
      "Close        False\n",
      "Adj Close    False\n",
      "Volume       False\n",
      "dtype: bool\n"
     ]
    }
   ],
   "source": [
    "# Any null values\n",
    "print(GOOG.isnull().any())"
   ]
  },
  {
   "cell_type": "code",
   "execution_count": 42,
   "id": "2a04900f",
   "metadata": {},
   "outputs": [
    {
     "name": "stdout",
     "output_type": "stream",
     "text": [
      "              Open         High          Low        Close    Adj Close  \\\n",
      "count  3313.000000  3313.000000  3313.000000  3313.000000  3313.000000   \n",
      "mean    380.186092   383.493740   376.519309   380.072458   380.072458   \n",
      "std     223.818650   224.974534   222.473232   223.853780   223.853780   \n",
      "min      49.274517    50.541279    47.669952    49.681866    49.681866   \n",
      "25%     226.556473   228.394516   224.003082   226.407440   226.407440   \n",
      "50%     293.312286   295.433502   289.929291   293.029114   293.029114   \n",
      "75%     536.650024   540.000000   532.409973   536.690002   536.690002   \n",
      "max     992.000000   997.210022   989.000000   989.679993   989.679993   \n",
      "\n",
      "             Volume  \n",
      "count  3.313000e+03  \n",
      "mean   8.038476e+06  \n",
      "std    8.399521e+06  \n",
      "min    7.900000e+03  \n",
      "25%    2.584900e+06  \n",
      "50%    5.281300e+06  \n",
      "75%    1.065370e+07  \n",
      "max    8.276810e+07  \n"
     ]
    }
   ],
   "source": [
    "# Get statistics on dataset\n",
    "print(GOOG.describe())"
   ]
  },
  {
   "cell_type": "code",
   "execution_count": 43,
   "id": "65b39bb7",
   "metadata": {},
   "outputs": [
    {
     "name": "stdout",
     "output_type": "stream",
     "text": [
      "count    3313.000000\n",
      "mean      380.072458\n",
      "std       223.853780\n",
      "min        49.681866\n",
      "25%       226.407440\n",
      "50%       293.029114\n",
      "75%       536.690002\n",
      "max       989.679993\n",
      "Name: Adj Close, dtype: float64\n"
     ]
    }
   ],
   "source": [
    "# Describe on single column\n",
    "print(GOOG['Adj Close'].describe())"
   ]
  },
  {
   "cell_type": "code",
   "execution_count": 44,
   "id": "1694f05e",
   "metadata": {},
   "outputs": [
    {
     "name": "stdout",
     "output_type": "stream",
     "text": [
      "Maximum values of each column:\n",
      " Date         2017-10-13\n",
      "Open              992.0\n",
      "High         997.210022\n",
      "Low               989.0\n",
      "Close        989.679993\n",
      "Adj Close    989.679993\n",
      "Volume         82768100\n",
      "dtype: object \n",
      "\n",
      "Minimum close value 49.681866 \n",
      "\n",
      "Average of each column:\n",
      " Open         3.801861e+02\n",
      "High         3.834937e+02\n",
      "Low          3.765193e+02\n",
      "Close        3.800725e+02\n",
      "Adj Close    3.800725e+02\n",
      "Volume       8.038476e+06\n",
      "dtype: float64\n"
     ]
    }
   ],
   "source": [
    "# Statistics on dataframe\n",
    "print('Maximum values of each column:\\n', GOOG.max(), '\\n')\n",
    "print('Minimum close value', GOOG['Close'].min(), '\\n')\n",
    "print('Average of each column:\\n', GOOG.mean())"
   ]
  },
  {
   "cell_type": "code",
   "execution_count": 45,
   "id": "7f06b66a",
   "metadata": {},
   "outputs": [
    {
     "name": "stdout",
     "output_type": "stream",
     "text": [
      "               Open      High       Low     Close  Adj Close    Volume\n",
      "Open       1.000000  0.999904  0.999845  0.999745   0.999745 -0.564258\n",
      "High       0.999904  1.000000  0.999834  0.999868   0.999868 -0.562749\n",
      "Low        0.999845  0.999834  1.000000  0.999899   0.999899 -0.567007\n",
      "Close      0.999745  0.999868  0.999899  1.000000   1.000000 -0.564967\n",
      "Adj Close  0.999745  0.999868  0.999899  1.000000   1.000000 -0.564967\n",
      "Volume    -0.564258 -0.562749 -0.567007 -0.564967  -0.564967  1.000000\n"
     ]
    }
   ],
   "source": [
    "# Get correlation between columns\n",
    "print(GOOG.corr())"
   ]
  },
  {
   "cell_type": "markdown",
   "id": "d6d182ca",
   "metadata": {},
   "source": [
    "#### FAKE COMPANY EXAMPLE"
   ]
  },
  {
   "cell_type": "code",
   "execution_count": 46,
   "id": "3cfccd12",
   "metadata": {},
   "outputs": [
    {
     "name": "stdout",
     "output_type": "stream",
     "text": [
      "   Year     Name Department  Age  Salary\n",
      "0  1990    Alice         HR   25   50000\n",
      "1  1990      Bob         RD   30   48000\n",
      "2  1990  Charlie      Admin   45   55000\n",
      "3  1991   Dakota         HR   26   52000\n",
      "4  1991     Elsa         RD   31   50000\n",
      "5  1991    Frank      Admin   46   60000\n",
      "6  1992    Grace      Admin   27   60000\n",
      "7  1992  Hoffman         RD   32   52000\n",
      "8  1992    Inaar      Admin   28   62000\n"
     ]
    }
   ],
   "source": [
    "data = pd.read_csv('./fake_company.csv')\n",
    "print(data)"
   ]
  },
  {
   "cell_type": "code",
   "execution_count": 47,
   "id": "19767670",
   "metadata": {},
   "outputs": [
    {
     "name": "stdout",
     "output_type": "stream",
     "text": [
      "Year\n",
      "1990    153000\n",
      "1991    162000\n",
      "1992    174000\n",
      "Name: Salary, dtype: int64\n"
     ]
    }
   ],
   "source": [
    "# Display total compensation by year\n",
    "print(data.groupby(['Year'])['Salary'].sum())"
   ]
  },
  {
   "cell_type": "code",
   "execution_count": 48,
   "id": "e28082e5",
   "metadata": {},
   "outputs": [
    {
     "name": "stdout",
     "output_type": "stream",
     "text": [
      "Year\n",
      "1990    51000\n",
      "1991    54000\n",
      "1992    58000\n",
      "Name: Salary, dtype: int64\n"
     ]
    }
   ],
   "source": [
    "# Display average salary for each year\n",
    "print(data.groupby(['Year'])['Salary'].mean())"
   ]
  },
  {
   "cell_type": "code",
   "execution_count": 49,
   "id": "6446acbd",
   "metadata": {},
   "outputs": [
    {
     "name": "stdout",
     "output_type": "stream",
     "text": [
      "Name\n",
      "Alice      50000\n",
      "Bob        48000\n",
      "Charlie    55000\n",
      "Dakota     52000\n",
      "Elsa       50000\n",
      "Frank      60000\n",
      "Grace      60000\n",
      "Hoffman    52000\n",
      "Inaar      62000\n",
      "Name: Salary, dtype: int64\n"
     ]
    }
   ],
   "source": [
    "# Display individual employee compensation by year\n",
    "print(data.groupby(['Name'])['Salary'].sum())"
   ]
  },
  {
   "cell_type": "code",
   "execution_count": 50,
   "id": "d8d9e10c",
   "metadata": {},
   "outputs": [
    {
     "name": "stdout",
     "output_type": "stream",
     "text": [
      "Year  Department\n",
      "1990  Admin          55000\n",
      "      HR             50000\n",
      "      RD             48000\n",
      "1991  Admin          60000\n",
      "      HR             52000\n",
      "      RD             50000\n",
      "1992  Admin         122000\n",
      "      RD             52000\n",
      "Name: Salary, dtype: int64\n"
     ]
    }
   ],
   "source": [
    "# Groupby() on two columns\n",
    "print(data.groupby(['Year', 'Department'])['Salary'].sum())"
   ]
  }
 ],
 "metadata": {
  "kernelspec": {
   "display_name": "Python 3",
   "language": "python",
   "name": "python3"
  },
  "language_info": {
   "codemirror_mode": {
    "name": "ipython",
    "version": 3
   },
   "file_extension": ".py",
   "mimetype": "text/x-python",
   "name": "python",
   "nbconvert_exporter": "python",
   "pygments_lexer": "ipython3",
   "version": "3.8.10"
  }
 },
 "nbformat": 4,
 "nbformat_minor": 5
}
