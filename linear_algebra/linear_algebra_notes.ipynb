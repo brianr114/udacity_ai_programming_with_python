{
 "cells": [
  {
   "cell_type": "markdown",
   "id": "ea5acd2e",
   "metadata": {},
   "source": [
    "#### Point Notation\n",
    "$$(x, y)$$"
   ]
  },
  {
   "cell_type": "markdown",
   "id": "29031d71",
   "metadata": {},
   "source": [
    "#### Vector Notation\n",
    "$$\\vec{a} = \\begin{bmatrix}x\\\\y\\\\z\\end{bmatrix}$$"
   ]
  },
  {
   "cell_type": "markdown",
   "id": "2d92efad",
   "metadata": {},
   "source": [
    "#### Vector Addition\n",
    "$$\\begin{bmatrix}x\\\\y\\\\z\\end{bmatrix} + \\begin{bmatrix}a\\\\a\\\\c\\end{bmatrix} = \\begin{bmatrix}x + a\\\\y + b\\\\z + c\\end{bmatrix}$$"
   ]
  },
  {
   "cell_type": "markdown",
   "id": "e59b76d4",
   "metadata": {},
   "source": [
    "#### Vector Multiplication\n",
    "$$2 * \\begin{bmatrix}x\\\\y\\\\z\\end{bmatrix} = \\begin{bmatrix}2*x\\\\2*y\\\\2*z\\end{bmatrix}$$"
   ]
  },
  {
   "cell_type": "markdown",
   "id": "5d3683bf",
   "metadata": {},
   "source": [
    "#### Transpose\n",
    "$$\\begin{bmatrix}x\\\\y\\\\z\\end{bmatrix}^T = \\begin{bmatrix}x y z\\end{bmatrix}$$"
   ]
  },
  {
   "cell_type": "markdown",
   "id": "fbdaa913",
   "metadata": {},
   "source": [
    "#### Vector Magnitude and Direction\n",
    "Magnitude = hypotneus<br>\n",
    "Direction = angle"
   ]
  }
 ],
 "metadata": {
  "kernelspec": {
   "display_name": "Python 3",
   "language": "python",
   "name": "python3"
  },
  "language_info": {
   "codemirror_mode": {
    "name": "ipython",
    "version": 3
   },
   "file_extension": ".py",
   "mimetype": "text/x-python",
   "name": "python",
   "nbconvert_exporter": "python",
   "pygments_lexer": "ipython3",
   "version": "3.8.10"
  }
 },
 "nbformat": 4,
 "nbformat_minor": 5
}
