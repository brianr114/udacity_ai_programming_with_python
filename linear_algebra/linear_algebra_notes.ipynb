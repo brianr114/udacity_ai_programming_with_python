{
 "cells": [
  {
   "cell_type": "markdown",
   "id": "ea5acd2e",
   "metadata": {},
   "source": [
    "#### Point Notation\n",
    "$$(x, y)$$"
   ]
  },
  {
   "cell_type": "markdown",
   "id": "29031d71",
   "metadata": {},
   "source": [
    "#### Vector Notation\n",
    "$$\\vec{a} = \\begin{bmatrix}x\\\\y\\\\z\\end{bmatrix}$$"
   ]
  },
  {
   "cell_type": "markdown",
   "id": "2d92efad",
   "metadata": {},
   "source": [
    "#### Vector Addition\n",
    "$$\\begin{bmatrix}x\\\\y\\\\z\\end{bmatrix} + \\begin{bmatrix}a\\\\a\\\\c\\end{bmatrix} = \\begin{bmatrix}x + a\\\\y + b\\\\z + c\\end{bmatrix}$$"
   ]
  },
  {
   "cell_type": "markdown",
   "id": "e59b76d4",
   "metadata": {},
   "source": [
    "#### Vector Multiplication\n",
    "$$2 * \\begin{bmatrix}x\\\\y\\\\z\\end{bmatrix} = \\begin{bmatrix}2*x\\\\2*y\\\\2*z\\end{bmatrix}$$"
   ]
  },
  {
   "cell_type": "markdown",
   "id": "5d3683bf",
   "metadata": {},
   "source": [
    "#### Transpose\n",
    "$$\\begin{bmatrix}x\\\\y\\\\z\\end{bmatrix}^T = \\begin{bmatrix}x y z\\end{bmatrix}$$"
   ]
  },
  {
   "cell_type": "markdown",
   "id": "fbdaa913",
   "metadata": {},
   "source": [
    "#### Vector Magnitude and Direction\n",
    "Magnitude = hypotneus<br>\n",
    "Direction = angle"
   ]
  },
  {
   "cell_type": "markdown",
   "id": "b5360e23",
   "metadata": {},
   "source": [
    "#### Linear Combinations\n",
    "All linear combinations of 2 vectors results in a \"sheet\" of space.  Linear combinations of 3 vectors results in all space.<br>\n",
    "Linear dependant: Vectors that overlap each other\n",
    "$$\\begin{bmatrix}2\\\\2\\\\2\\end{bmatrix} and \\begin{bmatrix}8\\\\8\\\\8\\end{bmatrix}$$\n",
    "Linear independant: Vectors that are truely different from each other\n",
    "$$\\begin{bmatrix}1\\\\2\\\\3\\end{bmatrix} and \\begin{bmatrix}4\\\\5\\\\6\\end{bmatrix}$$"
   ]
  },
  {
   "cell_type": "markdown",
   "id": "eec971c8",
   "metadata": {},
   "source": [
    "#### System of Linear Equations\n",
    "$$a\\begin{bmatrix}-14\\\\2\\end{bmatrix} + b\\begin{bmatrix}5\\\\-1\\end{bmatrix} = \\begin{bmatrix}-13\\\\3\\end{bmatrix}$$\n",
    "becomes\n",
    "$$-14a + 5b = -13$$\n",
    "$$2a - b = 3$$\n",
    "<br>\n",
    "Three methods of solving linear equations: graphing, substitution, elimination"
   ]
  },
  {
   "cell_type": "markdown",
   "id": "aa0aecac",
   "metadata": {},
   "source": [
    "#### Matrix\n",
    "m rows, n columns<br>\n",
    "* Addition - Matrices are same size\n",
    "* Scalar Multiplication - No requirements for size or indicies\n",
    "* Matrix Multiplication - Number of rows in first matrix must equal number of columns in second matrix<br>\n",
    "For C = A * B, C will have A rows and B columns"
   ]
  },
  {
   "attachments": {},
   "cell_type": "markdown",
   "id": "4ae02394",
   "metadata": {},
   "source": [
    "#### Linear Transformation\n",
    "* Grid Lines must remain straight\n",
    "* Origin remains fixed\n",
    "\n",
    "<br>\n",
    "Can be defined by: $${\\hat{i}} = \\begin{bmatrix}a\\\\b\\end{bmatrix} and {\\hat{j}} = \\begin{bmatrix}c\\\\d\\end{bmatrix} or \\begin{bmatrix}a & c\\\\b & d\\end{bmatrix}$$"
   ]
  },
  {
   "cell_type": "markdown",
   "id": "f96b044e",
   "metadata": {},
   "source": [
    "#### Equation for Linear Transformation\n",
    "Vector A, Transform Matrix L, Transformation T:\n",
    "$$A = \\begin{bmatrix}x\\\\y\\end{bmatrix}\\\\\n",
    "L = \\begin{bmatrix}a & c\\\\b & d\\end{bmatrix}\\\\\n",
    "T = L * A = \\begin{bmatrix}a & c\\\\b & d\\end{bmatrix} * \\begin{bmatrix}x\\\\y\\end{bmatrix}$$"
   ]
  }
 ],
 "metadata": {
  "kernelspec": {
   "display_name": "Python 3",
   "language": "python",
   "name": "python3"
  },
  "language_info": {
   "codemirror_mode": {
    "name": "ipython",
    "version": 3
   },
   "file_extension": ".py",
   "mimetype": "text/x-python",
   "name": "python",
   "nbconvert_exporter": "python",
   "pygments_lexer": "ipython3",
   "version": "3.8.10"
  }
 },
 "nbformat": 4,
 "nbformat_minor": 5
}
