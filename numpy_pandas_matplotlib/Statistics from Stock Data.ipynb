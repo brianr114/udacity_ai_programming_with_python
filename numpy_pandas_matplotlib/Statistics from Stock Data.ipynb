{
 "cells": [
  {
   "cell_type": "markdown",
   "metadata": {},
   "source": [
    "# Statistics from Stock Data\n",
    "\n",
    "In this lab we will load stock data into a Pandas Dataframe and calculate some statistics on it. We will be working with stock data from Google, Apple, and Amazon. All the stock data was downloaded from yahoo finance in CSV format. In your workspace you should have a file named GOOG.csv containing the Google stock data, a file named AAPL.csv containing the Apple stock data, and a file  named AMZN.csv containing the Amazon stock data. All the files contain 7 columns of data:\n",
    "\n",
    "**Date Open High Low Close Adj_Close Volume**\n",
    "\n",
    "We will start by reading in any of the above CSV files into a DataFrame and see what the data looks like."
   ]
  },
  {
   "cell_type": "code",
   "execution_count": 1,
   "metadata": {},
   "outputs": [
    {
     "name": "stdout",
     "output_type": "stream",
     "text": [
      "         Date       Open       High        Low      Close  Adj Close    Volume\n",
      "0  2004-08-19  49.676899  51.693783  47.669952  49.845802  49.845802  44994500\n",
      "1  2004-08-20  50.178635  54.187561  49.925285  53.805050  53.805050  23005800\n",
      "2  2004-08-23  55.017166  56.373344  54.172661  54.346527  54.346527  18393200\n",
      "3  2004-08-24  55.260582  55.439419  51.450363  52.096165  52.096165  15361800\n",
      "4  2004-08-25  52.140873  53.651051  51.604362  52.657513  52.657513   9257400 \n",
      "\n",
      "         Date      Open      High       Low     Close  Adj Close     Volume\n",
      "0  2000-01-03  3.745536  4.017857  3.631696  3.997768   3.596616  133949200\n",
      "1  2000-01-04  3.866071  3.950893  3.613839  3.660714   3.293384  128094400\n",
      "2  2000-01-05  3.705357  3.948661  3.678571  3.714286   3.341579  194580400\n",
      "3  2000-01-06  3.790179  3.821429  3.392857  3.392857   3.052405  191993200\n",
      "4  2000-01-07  3.446429  3.607143  3.410714  3.553571   3.196992  115183600 \n",
      "\n",
      "         Date     Open     High        Low    Close  Adj Close    Volume\n",
      "0  2000-01-03  81.5000  89.5625  79.046799  89.3750    89.3750  16117600\n",
      "1  2000-01-04  85.3750  91.5000  81.750000  81.9375    81.9375  17487400\n",
      "2  2000-01-05  70.5000  75.1250  68.000000  69.7500    69.7500  38457400\n",
      "3  2000-01-06  71.3125  72.6875  64.000000  65.5625    65.5625  18752000\n",
      "4  2000-01-07  67.0000  70.5000  66.187500  69.5625    69.5625  10505400 \n",
      "\n"
     ]
    }
   ],
   "source": [
    "# We import pandas into Python\n",
    "import pandas as pd\n",
    "\n",
    "# We read in a stock data data file into a data frame and see what it looks like\n",
    "goog = pd.read_csv('./GOOG.csv')\n",
    "aapl = pd.read_csv('./AAPL.csv')\n",
    "amzn = pd.read_csv('./AMZN.csv')\n",
    "\n",
    "# We display the first 5 rows of the DataFrame\n",
    "print(goog.head(), '\\n')\n",
    "print(aapl.head(), '\\n')\n",
    "print(amzn.head(), '\\n')"
   ]
  },
  {
   "cell_type": "markdown",
   "metadata": {},
   "source": [
    "We clearly see that the Dataframe is has automatically labeled the row indices using integers and has labeled the columns of the DataFrame using the names of the columns in the CSV files.\n",
    "\n",
    "# To Do\n",
    "\n",
    "You will now load the stock data from Google, Apple, and Amazon into separte DataFrames. However, for each stock data you will only be interested in loading the `Date` and `Adj Close` columns into the Dataframe. In addtion, you want to use the `Date` column as your row index. Finally, you want the DataFrame to recognize the dates as actual dates (year/month/day) and not as strings. For each stock, you can accomplish all theses things in just one line of code by using the appropiate keywords in the `pd.read_csv()` function. Here are a few hints:\n",
    "\n",
    "* Use the `index_col` keyword to indicate which column you want to use as an index. For example `index_col = ['Open']`\n",
    "\n",
    "* Set the `parse_dates` keyword equal to `True` to convert the Dates into real dates of the form year/month/day\n",
    "\n",
    "* Use the `usecols` keyword to select which columns you want to load into the DataFrame. For example `usecols = ['Open', 'High']`\n",
    "\n",
    "Fill in the code below:"
   ]
  },
  {
   "cell_type": "code",
   "execution_count": 2,
   "metadata": {},
   "outputs": [],
   "source": [
    "# We load the Google stock data into a DataFrame\n",
    "google_stock = pd.read_csv('./GOOG.csv', parse_dates = True, index_col = ['Date'], usecols = ['Date', 'Adj Close'])\n",
    "\n",
    "# We load the Apple stock data into a DataFrame\n",
    "apple_stock = pd.read_csv('./AAPL.csv', parse_dates = True, index_col = ['Date'], usecols = ['Date', 'Adj Close'])\n",
    "                       \n",
    "# We load the Amazon stock data into a DataFrame\n",
    "amazon_stock = pd.read_csv('./AMZN.csv', parse_dates = True, index_col = ['Date'], usecols = ['Date', 'Adj Close'])"
   ]
  },
  {
   "cell_type": "markdown",
   "metadata": {},
   "source": [
    "You can check that you have loaded the data correctly by displaying the head of the DataFrames."
   ]
  },
  {
   "cell_type": "code",
   "execution_count": 3,
   "metadata": {},
   "outputs": [
    {
     "name": "stdout",
     "output_type": "stream",
     "text": [
      "            Adj Close\n",
      "Date                 \n",
      "2004-08-19  49.845802\n",
      "2004-08-20  53.805050\n",
      "2004-08-23  54.346527\n",
      "2004-08-24  52.096165\n",
      "2004-08-25  52.657513 \n",
      "\n",
      "            Adj Close\n",
      "Date                 \n",
      "2000-01-03   3.596616\n",
      "2000-01-04   3.293384\n",
      "2000-01-05   3.341579\n",
      "2000-01-06   3.052405\n",
      "2000-01-07   3.196992 \n",
      "\n",
      "            Adj Close\n",
      "Date                 \n",
      "2000-01-03    89.3750\n",
      "2000-01-04    81.9375\n",
      "2000-01-05    69.7500\n",
      "2000-01-06    65.5625\n",
      "2000-01-07    69.5625 \n",
      "\n"
     ]
    }
   ],
   "source": [
    "# We display the google_stock DataFrame\n",
    "print(google_stock.head(), '\\n')\n",
    "print(apple_stock.head(), '\\n')\n",
    "print(amazon_stock.head(), '\\n')"
   ]
  },
  {
   "cell_type": "markdown",
   "metadata": {},
   "source": [
    "You will now join the three DataFrames above to create a single new DataFrame that contains all the `Adj Close` for all the stocks. Let's start by creating an empty DataFrame that has as row indices calendar days between `2000-01-01`  and `2016-12-31`. We will use the `pd.date_range()` function to create the calendar dates first and then we will create a DataFrame that uses those dates as row indices:"
   ]
  },
  {
   "cell_type": "code",
   "execution_count": 4,
   "metadata": {},
   "outputs": [],
   "source": [
    "# We create calendar dates between '2000-01-01' and  '2016-12-31'\n",
    "dates = pd.date_range('2000-01-01', '2016-12-31')\n",
    "\n",
    "# We create and empty DataFrame that uses the above dates as indices\n",
    "all_stocks = pd.DataFrame(index = dates)"
   ]
  },
  {
   "cell_type": "markdown",
   "metadata": {},
   "source": [
    "# To Do\n",
    "\n",
    "You will now join the the individual DataFrames, `google_stock`, `apple_stock`, and `amazon_stock`, to the `all_stocks` DataFrame. However, before you do this, it is necessary that you change the name of the columns in each of the three dataframes. This is because the column labels in the `all_stocks` dataframe must be unique. Since all the columns in the individual dataframes have the same name, `Adj Close`, we must change them to the stock name before joining them. In the space below change the column label `Adj Close` of each individual dataframe to the name of the corresponding stock. You can do this by using the `pd.DataFrame.rename()` function. "
   ]
  },
  {
   "cell_type": "code",
   "execution_count": 5,
   "metadata": {},
   "outputs": [],
   "source": [
    "# Change the Adj Close column label to Google\n",
    "google_stock = google_stock.rename(columns = {'Adj Close': 'Google'})\n",
    "\n",
    "# Change the Adj Close column label to Apple\n",
    "apple_stock = apple_stock.rename(columns = {'Adj Close': 'Apple'})\n",
    "\n",
    "# Change the Adj Close column label to Amazon\n",
    "amazon_stock =  amazon_stock.rename(columns = {'Adj Close': 'Amazon'})"
   ]
  },
  {
   "cell_type": "markdown",
   "metadata": {},
   "source": [
    "You can check that the column labels have been changed correctly by displaying the datadrames"
   ]
  },
  {
   "cell_type": "code",
   "execution_count": 6,
   "metadata": {},
   "outputs": [
    {
     "name": "stdout",
     "output_type": "stream",
     "text": [
      "               Google\n",
      "Date                 \n",
      "2004-08-19  49.845802\n",
      "2004-08-20  53.805050\n",
      "2004-08-23  54.346527\n",
      "2004-08-24  52.096165\n",
      "2004-08-25  52.657513\n"
     ]
    }
   ],
   "source": [
    "# We display the google_stock DataFrame\n",
    "print(google_stock.head())"
   ]
  },
  {
   "cell_type": "code",
   "execution_count": 7,
   "metadata": {},
   "outputs": [
    {
     "name": "stdout",
     "output_type": "stream",
     "text": [
      "               Apple\n",
      "Date                \n",
      "2000-01-03  3.596616\n",
      "2000-01-04  3.293384\n",
      "2000-01-05  3.341579\n",
      "2000-01-06  3.052405\n",
      "2000-01-07  3.196992\n"
     ]
    }
   ],
   "source": [
    "# We display the apple_stock DataFrame\n",
    "print(apple_stock.head())"
   ]
  },
  {
   "cell_type": "code",
   "execution_count": 8,
   "metadata": {},
   "outputs": [
    {
     "name": "stdout",
     "output_type": "stream",
     "text": [
      "             Amazon\n",
      "Date               \n",
      "2000-01-03  89.3750\n",
      "2000-01-04  81.9375\n",
      "2000-01-05  69.7500\n",
      "2000-01-06  65.5625\n",
      "2000-01-07  69.5625\n"
     ]
    }
   ],
   "source": [
    "# We display the amazon_stock DataFrame\n",
    "print(amazon_stock.head())"
   ]
  },
  {
   "cell_type": "markdown",
   "metadata": {},
   "source": [
    "Now that we have unique column labels, we can join the individual DataFrames to the `all_stocks` DataFrame. For this we will use the `dataframe.join()` function. The function `dataframe1.join(dataframe2)` joins `dataframe1` with `dataframe2`. We will join each dataframe one by one to the `all_stocks` dataframe. Fill in the code below to join the dataframes, the first join has been made for you:"
   ]
  },
  {
   "cell_type": "code",
   "execution_count": 10,
   "metadata": {},
   "outputs": [],
   "source": [
    "# We join the Google stock to all_stocks\n",
    "all_stocks = all_stocks.join(google_stock)\n",
    "\n",
    "# We join the Apple stock to all_stocks\n",
    "all_stocks = all_stocks.join(apple_stock)\n",
    "\n",
    "# We join the Amazon stock to all_stocks\n",
    "all_stocks = all_stocks.join(amazon_stock)"
   ]
  },
  {
   "cell_type": "markdown",
   "metadata": {},
   "source": [
    "You can check that the dataframes have been joined correctly by displaying the `all_stocks`  dataframe"
   ]
  },
  {
   "cell_type": "code",
   "execution_count": 13,
   "metadata": {},
   "outputs": [
    {
     "name": "stdout",
     "output_type": "stream",
     "text": [
      "            Google     Apple   Amazon\n",
      "2000-01-01     NaN       NaN      NaN\n",
      "2000-01-02     NaN       NaN      NaN\n",
      "2000-01-03     NaN  3.596616  89.3750\n",
      "2000-01-04     NaN  3.293384  81.9375\n",
      "2000-01-05     NaN  3.341579  69.7500 \n",
      "\n",
      "                 Google       Apple      Amazon\n",
      "2016-12-27  791.549988  115.819054  771.400024\n",
      "2016-12-28  785.049988  115.325203  772.130005\n",
      "2016-12-29  782.789978  115.295570  765.150024\n",
      "2016-12-30  771.820007  114.396751  749.869995\n",
      "2016-12-31         NaN         NaN         NaN\n"
     ]
    }
   ],
   "source": [
    "# We display the all_stocks DataFrame\n",
    "print(all_stocks.head(), '\\n\\n', all_stocks.tail())"
   ]
  },
  {
   "cell_type": "markdown",
   "metadata": {},
   "source": [
    "# To Do\n",
    "\n",
    "Before we proceed to get some statistics on the stock data, let's first check that we don't have any *NaN* values. In the space below check if there are any *NaN* values in the `all_stocks`  dataframe. If there are any, remove any rows that have *NaN* values:"
   ]
  },
  {
   "cell_type": "code",
   "execution_count": 14,
   "metadata": {},
   "outputs": [
    {
     "name": "stdout",
     "output_type": "stream",
     "text": [
      "Number of NaN values:  6961\n"
     ]
    }
   ],
   "source": [
    "# Check if there are any NaN values in the all_stocks dataframe\n",
    "print('Number of NaN values: ', all_stocks.isnull().sum().sum())"
   ]
  },
  {
   "cell_type": "code",
   "execution_count": 17,
   "metadata": {},
   "outputs": [],
   "source": [
    "# Remove any rows that contain NaN values\n",
    "all_stocks.dropna(axis = 0, inplace = True)"
   ]
  },
  {
   "cell_type": "markdown",
   "metadata": {},
   "source": [
    "You can check that the *NaN* values have been eliminated by displaying the `all_stocks`  dataframe"
   ]
  },
  {
   "cell_type": "code",
   "execution_count": 18,
   "metadata": {},
   "outputs": [
    {
     "name": "stdout",
     "output_type": "stream",
     "text": [
      "Number of NaN values:  0\n"
     ]
    }
   ],
   "source": [
    "# Check if there are any NaN values in the all_stocks dataframe\n",
    "print('Number of NaN values: ', all_stocks.isnull().sum().sum())"
   ]
  },
  {
   "cell_type": "markdown",
   "metadata": {},
   "source": [
    "Display the `all_stocks`  dataframe and verify that there are no *NaN* values "
   ]
  },
  {
   "cell_type": "code",
   "execution_count": 19,
   "metadata": {},
   "outputs": [
    {
     "name": "stdout",
     "output_type": "stream",
     "text": [
      "               Google     Apple     Amazon\n",
      "2004-08-19  49.845802  1.973460  38.630001\n",
      "2004-08-20  53.805050  1.979244  39.509998\n",
      "2004-08-23  54.346527  1.997236  39.450001\n",
      "2004-08-24  52.096165  2.053144  39.049999\n",
      "2004-08-25  52.657513  2.123831  40.299999 \n",
      "\n",
      "                 Google       Apple      Amazon\n",
      "2016-12-23  789.909973  115.088142  760.590027\n",
      "2016-12-27  791.549988  115.819054  771.400024\n",
      "2016-12-28  785.049988  115.325203  772.130005\n",
      "2016-12-29  782.789978  115.295570  765.150024\n",
      "2016-12-30  771.820007  114.396751  749.869995\n"
     ]
    }
   ],
   "source": [
    "# We display the all_stocks DataFrame\n",
    "print(all_stocks.head(), '\\n\\n', all_stocks.tail())"
   ]
  },
  {
   "cell_type": "markdown",
   "metadata": {},
   "source": [
    "Now that you have eliminated any *NaN* values we can now calculate some basic statistics on the stock prices. Fill in the code below"
   ]
  },
  {
   "cell_type": "code",
   "execution_count": 22,
   "metadata": {},
   "outputs": [
    {
     "name": "stdout",
     "output_type": "stream",
     "text": [
      "Google    347.420229\n",
      "Apple      47.736018\n",
      "Amazon    216.598177\n",
      "dtype: float64 \n",
      "\n",
      "Google    286.397247\n",
      "Apple      39.461483\n",
      "Amazon    161.820007\n",
      "dtype: float64 \n",
      "\n",
      "Google    187.671596\n",
      "Apple      37.421555\n",
      "Amazon    199.129792\n",
      "dtype: float64 \n",
      "\n",
      "          Google     Apple    Amazon\n",
      "Google  1.000000  0.900242  0.952444\n",
      "Apple   0.900242  1.000000  0.886321\n",
      "Amazon  0.952444  0.886321  1.000000\n"
     ]
    }
   ],
   "source": [
    "# Print the average stock price for each stock\n",
    "print(all_stocks.mean(), '\\n')\n",
    "\n",
    "# Print the median stock price for each stock\n",
    "print(all_stocks.median(), '\\n')\n",
    "\n",
    "# Print the standard deviation of the stock price for each stock  \n",
    "print(all_stocks.std(), '\\n')\n",
    "\n",
    "# Print the correlation between stocks\n",
    "print(all_stocks.corr())"
   ]
  },
  {
   "cell_type": "markdown",
   "metadata": {},
   "source": [
    "We will now look at how we can compute some rolling statistics, also known as moving statistics. We can calculate for example the rolling mean (moving average) of the Google stock price by using the Pandas `dataframe.rolling().mean()` method. The `dataframe.rolling(N).mean()` calculates the rolling mean over an `N`-day window. In other words, we can take a look at the average stock price every `N`  days using the above method. Fill in the code below to calculate the average stock price every 150 days for Google stock"
   ]
  },
  {
   "cell_type": "code",
   "execution_count": 38,
   "metadata": {},
   "outputs": [
    {
     "name": "stdout",
     "output_type": "stream",
     "text": [
      "2016-12-23    758.236666\n",
      "2016-12-27    758.713066\n",
      "2016-12-28    759.111599\n",
      "2016-12-29    759.502732\n",
      "2016-12-30    759.763799\n",
      "Name: Google, dtype: float64\n"
     ]
    }
   ],
   "source": [
    "# We compute the rolling mean using a 150-Day window for Google stock\n",
    "rollingMean = all_stocks['Google'].rolling(150).mean()\n",
    "print(rollingMean.tail())"
   ]
  },
  {
   "cell_type": "markdown",
   "metadata": {},
   "source": [
    "We can also visualize the rolling mean by plotting the data in our dataframe. In the following lessons you will learn how to use **Matplotlib** to visualize data. For now I will just import matplotlib and plot the Google stock data on top of the rolling mean. You can play around by changing the rolling mean window and see how the plot changes. "
   ]
  },
  {
   "cell_type": "code",
   "execution_count": 39,
   "metadata": {},
   "outputs": [
    {
     "data": {
      "image/png": "[encoded data removed]",
      "text/plain": [
       "<Figure size 432x288 with 1 Axes>"
      ]
     },
     "metadata": {
      "needs_background": "light"
     },
     "output_type": "display_data"
    }
   ],
   "source": [
    "%matplotlib inline\n",
    "\n",
    "# We import matplotlib into Python\n",
    "import matplotlib.pyplot as plt\n",
    "\n",
    "# We plot the Google stock data\n",
    "plt.plot(all_stocks['Google'])\n",
    "\n",
    "# We plot the rolling mean ontop of our Google stock data\n",
    "plt.plot(rollingMean)\n",
    "plt.legend(['Google Stock Price', 'Google Rolling Mean'])\n",
    "plt.show()"
   ]
  }
 ],
 "metadata": {
  "kernelspec": {
   "display_name": "Python 3",
   "language": "python",
   "name": "python3"
  },
  "language_info": {
   "codemirror_mode": {
    "name": "ipython",
    "version": 3
   },
   "file_extension": ".py",
   "mimetype": "text/x-python",
   "name": "python",
   "nbconvert_exporter": "python",
   "pygments_lexer": "ipython3",
   "version": "3.8.10"
  }
 },
 "nbformat": 4,
 "nbformat_minor": 2
}
