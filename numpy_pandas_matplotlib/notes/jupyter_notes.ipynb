{
 "cells": [
  {
   "cell_type": "markdown",
   "id": "27d221a9",
   "metadata": {},
   "source": [
    "# JUPYTER NOTEBOOK TIPS\n",
    "[Markdown Basic Syntax](https://www.markdownguide.org/basic-syntax/)<br>\n",
    "[Markdown and LaTeX in Jupyter Notebooks](https://towardsdatascience.com/write-markdown-latex-in-the-jupyter-notebook-10985edb91fd)"
   ]
  },
  {
   "cell_type": "markdown",
   "id": "25c11da5",
   "metadata": {},
   "source": [
    "# LaTeX Notes\n",
    "[LaTeX Cheatsheet](https://www.authorea.com/users/77723/articles/110898-how-to-write-mathematical-equations-expressions-and-symbols-with-latex-a-cheatsheet)<br>\n",
    "[LaTeX Cookbook](http://www.personal.ceu.hu/tex/cookbook.html)<br>\n",
    "[Rendering Matrices in LaTeX](https://www.overleaf.com/learn/latex/Matrices)"
   ]
  }
 ],
 "metadata": {
  "kernelspec": {
   "display_name": "Python 3",
   "language": "python",
   "name": "python3"
  },
  "language_info": {
   "codemirror_mode": {
    "name": "ipython",
    "version": 3
   },
   "file_extension": ".py",
   "mimetype": "text/x-python",
   "name": "python",
   "nbconvert_exporter": "python",
   "pygments_lexer": "ipython3",
   "version": "3.8.10"
  }
 },
 "nbformat": 4,
 "nbformat_minor": 5
}
