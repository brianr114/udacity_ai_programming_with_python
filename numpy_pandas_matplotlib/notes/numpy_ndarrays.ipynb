{
 "cells": [
  {
   "cell_type": "markdown",
   "id": "7e6b3e07",
   "metadata": {},
   "source": [
    "# NUMPY ARRAYS\n",
    "## CREATING NUMPY ARRAYS"
   ]
  },
  {
   "cell_type": "code",
   "execution_count": 1,
   "id": "985ebe82",
   "metadata": {},
   "outputs": [],
   "source": [
    "import numpy as np"
   ]
  },
  {
   "cell_type": "code",
   "execution_count": 2,
   "id": "16768c62",
   "metadata": {},
   "outputs": [
    {
     "name": "stdout",
     "output_type": "stream",
     "text": [
      "x:  [0 1 2 3 4]\n",
      "x dimensions:  1\n",
      "x type:  <class 'numpy.ndarray'>\n",
      "x element types:  int32\n"
     ]
    }
   ],
   "source": [
    "x = np.array([0, 1, 2, 3, 4])\n",
    "print('x: ', x)\n",
    "print('x dimensions: ', x.ndim)\n",
    "print('x type: ', type(x))\n",
    "print('x element types: ', x.dtype)"
   ]
  },
  {
   "cell_type": "code",
   "execution_count": 3,
   "id": "7fa80472",
   "metadata": {},
   "outputs": [
    {
     "name": "stdout",
     "output_type": "stream",
     "text": [
      "y:\n",
      " [[ 0  1  2]\n",
      " [ 3  4  5]\n",
      " [ 6  7  8]\n",
      " [ 9 10 11]]\n",
      "y dimensions:  2\n",
      "y shape:  (4, 3)\n",
      "y has a total of  12  elements\n",
      "y type:  <class 'numpy.ndarray'>\n",
      "y element types:  int32\n"
     ]
    }
   ],
   "source": [
    "y = np.array([[0, 1, 2], [3, 4, 5], [6, 7, 8], [9, 10, 11]])\n",
    "print('y:\\n', y)\n",
    "print('y dimensions: ', y.ndim)\n",
    "print('y shape: ', y.shape)\n",
    "print('y has a total of ', y.size, ' elements')\n",
    "print('y type: ', type(y))\n",
    "print('y element types: ', y.dtype)"
   ]
  },
  {
   "cell_type": "markdown",
   "id": "cf89ad37",
   "metadata": {},
   "source": [
    "Create array specifying the datatype (dtype) of the elements"
   ]
  },
  {
   "cell_type": "code",
   "execution_count": 4,
   "id": "fb11b7aa",
   "metadata": {},
   "outputs": [
    {
     "name": "stdout",
     "output_type": "stream",
     "text": [
      "x:  [0. 1. 2. 3. 4.]\n",
      "The elements in x are of type:  float64\n"
     ]
    }
   ],
   "source": [
    "x = np.array([0, 1, 2, 3, 4], dtype = np.float64)\n",
    "print('x: ', x)\n",
    "print('The elements in x are of type: ', x.dtype)"
   ]
  },
  {
   "cell_type": "markdown",
   "id": "2973f101",
   "metadata": {},
   "source": [
    "Save a NumPy array to a file."
   ]
  },
  {
   "cell_type": "code",
   "execution_count": 5,
   "id": "24e1eaa8",
   "metadata": {},
   "outputs": [],
   "source": [
    "np.save('my_array', y)"
   ]
  },
  {
   "cell_type": "markdown",
   "id": "0e16af5d",
   "metadata": {},
   "source": [
    "Load saved array from current directory"
   ]
  },
  {
   "cell_type": "code",
   "execution_count": 6,
   "id": "0c638763",
   "metadata": {},
   "outputs": [
    {
     "name": "stdout",
     "output_type": "stream",
     "text": [
      "\n",
      "z =\n",
      " [[ 0  1  2]\n",
      " [ 3  4  5]\n",
      " [ 6  7  8]\n",
      " [ 9 10 11]] \n",
      "\n",
      "z is an object of type:  <class 'numpy.ndarray'>\n",
      "The elements in z are type:  int32\n"
     ]
    }
   ],
   "source": [
    "z = np.load('my_array.npy')\n",
    "print('\\nz =\\n', z, '\\n')\n",
    "print('z is an object of type: ', type(z))\n",
    "print('The elements in z are type: ', z.dtype)"
   ]
  },
  {
   "cell_type": "markdown",
   "id": "f42702bb",
   "metadata": {},
   "source": [
    "## MULTI-DIMENSIONAL ARRAYS IN NUMPY\n",
    "Indexing arrays in numpy [NUM_ROWS][NUM_COLUMNS]<br>\n",
    "Axis 0 is columns, Axis 1 is rows"
   ]
  },
  {
   "cell_type": "code",
   "execution_count": 7,
   "id": "630ffe92",
   "metadata": {},
   "outputs": [
    {
     "name": "stdout",
     "output_type": "stream",
     "text": [
      "a =\n",
      " [[0. 0. 0. 0.]\n",
      " [0. 0. 0. 0.]\n",
      " [0. 0. 0. 0.]]\n",
      "a has shape:  (3, 4)\n",
      "a is an object of type: <class 'numpy.ndarray'>\n",
      "The elements in a are of type: float64\n"
     ]
    }
   ],
   "source": [
    "a = np.zeros((3,4))\n",
    "print('a =\\n', a)\n",
    "print('a has shape: ', a.shape)\n",
    "print('a is an object of type:', type(x))\n",
    "print('The elements in a are of type:', a.dtype)"
   ]
  },
  {
   "cell_type": "code",
   "execution_count": 8,
   "id": "5255fce6",
   "metadata": {},
   "outputs": [
    {
     "name": "stdout",
     "output_type": "stream",
     "text": [
      "a =\n",
      " [[1 1]\n",
      " [1 1]\n",
      " [1 1]\n",
      " [1 1]\n",
      " [1 1]]\n",
      "a has shape:  (5, 2)\n",
      "a is an object of type: <class 'numpy.ndarray'>\n",
      "The elements in a are of type: int64\n"
     ]
    }
   ],
   "source": [
    "a = np.ones((5,2), dtype = np.int64)\n",
    "print('a =\\n', a)\n",
    "print('a has shape: ', a.shape)\n",
    "print('a is an object of type:', type(x))\n",
    "print('The elements in a are of type:', a.dtype)"
   ]
  },
  {
   "cell_type": "code",
   "execution_count": 9,
   "id": "9f29244a",
   "metadata": {},
   "outputs": [
    {
     "name": "stdout",
     "output_type": "stream",
     "text": [
      "a =\n",
      " [[10 10 10]\n",
      " [10 10 10]]\n",
      "a has shape:  (2, 3)\n",
      "a is an object of type: <class 'numpy.ndarray'>\n",
      "The elements in a are of type: int32\n"
     ]
    }
   ],
   "source": [
    "a = np.full((2,3), 10)\n",
    "print('a =\\n', a)\n",
    "print('a has shape: ', a.shape)\n",
    "print('a is an object of type:', type(x))\n",
    "print('The elements in a are of type:', a.dtype)"
   ]
  },
  {
   "cell_type": "code",
   "execution_count": 10,
   "id": "8a9b9d28",
   "metadata": {},
   "outputs": [
    {
     "name": "stdout",
     "output_type": "stream",
     "text": [
      "a =\n",
      " [[1. 0. 0. 0. 0. 0. 0.]\n",
      " [0. 1. 0. 0. 0. 0. 0.]\n",
      " [0. 0. 1. 0. 0. 0. 0.]\n",
      " [0. 0. 0. 1. 0. 0. 0.]\n",
      " [0. 0. 0. 0. 1. 0. 0.]\n",
      " [0. 0. 0. 0. 0. 1. 0.]\n",
      " [0. 0. 0. 0. 0. 0. 1.]]\n",
      "a has shape:  (7, 7)\n",
      "a is an object of type: <class 'numpy.ndarray'>\n",
      "The elements in a are of type: float64\n"
     ]
    }
   ],
   "source": [
    "a = np.eye(7)\n",
    "print('a =\\n', a)\n",
    "print('a has shape: ', a.shape)\n",
    "print('a is an object of type:', type(x))\n",
    "print('The elements in a are of type:', a.dtype)"
   ]
  },
  {
   "cell_type": "code",
   "execution_count": 11,
   "id": "dfcec443",
   "metadata": {},
   "outputs": [
    {
     "name": "stdout",
     "output_type": "stream",
     "text": [
      "a =\n",
      " [[0 0 0 0 0]\n",
      " [0 1 0 0 0]\n",
      " [0 0 2 0 0]\n",
      " [0 0 0 3 0]\n",
      " [0 0 0 0 4]]\n",
      "a has shape:  (5, 5)\n",
      "a is an object of type: <class 'numpy.ndarray'>\n",
      "The elements in a are of type: int32\n"
     ]
    }
   ],
   "source": [
    "a = np.diag([0, 1, 2, 3, 4])\n",
    "print('a =\\n', a)\n",
    "print('a has shape: ', a.shape)\n",
    "print('a is an object of type:', type(x))\n",
    "print('The elements in a are of type:', a.dtype)"
   ]
  },
  {
   "cell_type": "markdown",
   "id": "84f22b81",
   "metadata": {},
   "source": [
    "### ARANGE\n",
    "numpy.arange([start, ]stop, [step, ]dtype=None)"
   ]
  },
  {
   "cell_type": "code",
   "execution_count": 12,
   "id": "471028f4",
   "metadata": {},
   "outputs": [
    {
     "name": "stdout",
     "output_type": "stream",
     "text": [
      "a =\n",
      " [0 1 2 3 4 5 6 7 8 9]\n",
      "a has shape:  (10,)\n",
      "a is an object of type: <class 'numpy.ndarray'>\n",
      "The elements in a are of type: int32\n"
     ]
    }
   ],
   "source": [
    "a = np.arange(10)\n",
    "print('a =\\n', a)\n",
    "print('a has shape: ', a.shape)\n",
    "print('a is an object of type:', type(x))\n",
    "print('The elements in a are of type:', a.dtype)"
   ]
  },
  {
   "cell_type": "code",
   "execution_count": 13,
   "id": "23905af6",
   "metadata": {},
   "outputs": [
    {
     "name": "stdout",
     "output_type": "stream",
     "text": [
      "a =\n",
      " [1 2 3 4 5 6 7 8]\n",
      "a has shape:  (8,)\n",
      "a is an object of type: <class 'numpy.ndarray'>\n",
      "The elements in a are of type: int32\n"
     ]
    }
   ],
   "source": [
    "a = np.arange(1, 9)\n",
    "print('a =\\n', a)\n",
    "print('a has shape: ', a.shape)\n",
    "print('a is an object of type:', type(x))\n",
    "print('The elements in a are of type:', a.dtype)"
   ]
  },
  {
   "cell_type": "code",
   "execution_count": 14,
   "id": "72b69a30",
   "metadata": {},
   "outputs": [
    {
     "name": "stdout",
     "output_type": "stream",
     "text": [
      "a =\n",
      " [ 1  4  7 10 13]\n",
      "a has shape:  (5,)\n",
      "a is an object of type: <class 'numpy.ndarray'>\n",
      "The elements in a are of type: int32\n"
     ]
    }
   ],
   "source": [
    "a = np.arange(1, 14, 3)\n",
    "print('a =\\n', a)\n",
    "print('a has shape: ', a.shape)\n",
    "print('a is an object of type:', type(x))\n",
    "print('The elements in a are of type:', a.dtype)"
   ]
  },
  {
   "cell_type": "markdown",
   "id": "3647a09a",
   "metadata": {},
   "source": [
    "### LINSPACE\n",
    "numpy.linspace(start, stop, num=50, endpoint=True, retstep=False, dtype=None, axis=0)"
   ]
  },
  {
   "cell_type": "code",
   "execution_count": 15,
   "id": "9054671d",
   "metadata": {},
   "outputs": [
    {
     "name": "stdout",
     "output_type": "stream",
     "text": [
      "a =\n",
      " [ 0.          2.77777778  5.55555556  8.33333333 11.11111111 13.88888889\n",
      " 16.66666667 19.44444444 22.22222222 25.        ]\n",
      "a has shape:  (10,)\n",
      "a is an object of type: <class 'numpy.ndarray'>\n",
      "The elements in a are of type: float64\n"
     ]
    }
   ],
   "source": [
    "a = np.linspace(0, 25, 10)\n",
    "print('a =\\n', a)\n",
    "print('a has shape: ', a.shape)\n",
    "print('a is an object of type:', type(x))\n",
    "print('The elements in a are of type:', a.dtype)"
   ]
  },
  {
   "cell_type": "code",
   "execution_count": 16,
   "id": "b4c74f02",
   "metadata": {},
   "outputs": [
    {
     "name": "stdout",
     "output_type": "stream",
     "text": [
      "a =\n",
      " [ 0.   2.5  5.   7.5 10.  12.5 15.  17.5 20.  22.5]\n",
      "a has shape:  (10,)\n",
      "a is an object of type: <class 'numpy.ndarray'>\n",
      "The elements in a are of type: float64\n"
     ]
    }
   ],
   "source": [
    "a = np.linspace(0, 25, 10, endpoint = False)\n",
    "print('a =\\n', a)\n",
    "print('a has shape: ', a.shape)\n",
    "print('a is an object of type:', type(x))\n",
    "print('The elements in a are of type:', a.dtype)"
   ]
  },
  {
   "cell_type": "markdown",
   "id": "4aa05971",
   "metadata": {},
   "source": [
    "### RESHAPE\n",
    "numpy.reshape(array, newshape, order='C')[source]"
   ]
  },
  {
   "cell_type": "code",
   "execution_count": 17,
   "id": "7984c53d",
   "metadata": {},
   "outputs": [
    {
     "name": "stdout",
     "output_type": "stream",
     "text": [
      "[ 0  1  2  3  4  5  6  7  8  9 10 11 12 13 14 15 16 17 18 19]\n"
     ]
    }
   ],
   "source": [
    "a = np.arange(20)\n",
    "print(a)"
   ]
  },
  {
   "cell_type": "code",
   "execution_count": 18,
   "id": "57f9fe54",
   "metadata": {},
   "outputs": [
    {
     "name": "stdout",
     "output_type": "stream",
     "text": [
      "[[ 0  1  2  3  4]\n",
      " [ 5  6  7  8  9]\n",
      " [10 11 12 13 14]\n",
      " [15 16 17 18 19]]\n"
     ]
    }
   ],
   "source": [
    "a = np.reshape(a, [4,5])\n",
    "print(a)"
   ]
  },
  {
   "cell_type": "code",
   "execution_count": 19,
   "id": "eaa3ecf9",
   "metadata": {},
   "outputs": [
    {
     "name": "stdout",
     "output_type": "stream",
     "text": [
      "[[ 0  1]\n",
      " [ 2  3]\n",
      " [ 4  5]\n",
      " [ 6  7]\n",
      " [ 8  9]\n",
      " [10 11]\n",
      " [12 13]\n",
      " [14 15]\n",
      " [16 17]\n",
      " [18 19]]\n",
      "a has shape:  (10, 2)\n",
      "a is an object of type: <class 'numpy.ndarray'>\n",
      "The elements in a are of type: int32\n"
     ]
    }
   ],
   "source": [
    "a = np.reshape(a, [10, 2])\n",
    "print(a)\n",
    "print('a has shape: ', a.shape)\n",
    "print('a is an object of type:', type(x))\n",
    "print('The elements in a are of type:', a.dtype)"
   ]
  },
  {
   "cell_type": "code",
   "execution_count": 20,
   "id": "3e4c6eca",
   "metadata": {},
   "outputs": [
    {
     "name": "stdout",
     "output_type": "stream",
     "text": [
      "[[0 0 0 0 0]\n",
      " [0 2 0 0 0]\n",
      " [0 0 4 0 0]\n",
      " [0 0 0 6 0]\n",
      " [0 0 0 0 8]]\n"
     ]
    }
   ],
   "source": [
    "a = np.diag(np.arange(0, 10, 2))\n",
    "print(a)"
   ]
  },
  {
   "cell_type": "markdown",
   "id": "1aa243c4",
   "metadata": {},
   "source": [
    "## NUMPY RANDOM FUNCTIONS"
   ]
  },
  {
   "cell_type": "code",
   "execution_count": 21,
   "id": "c8fc4725",
   "metadata": {},
   "outputs": [
    {
     "name": "stdout",
     "output_type": "stream",
     "text": [
      "[[0.09185817 0.03745655 0.71341762 0.39649741 0.64575452 0.19478731]\n",
      " [0.86929593 0.19036257 0.765738   0.10858729 0.02038501 0.18491185]\n",
      " [0.48343928 0.28225053 0.21522634 0.27385871 0.53078935 0.37796014]\n",
      " [0.38788967 0.88612379 0.63460884 0.08177094 0.53131373 0.36964273]]\n"
     ]
    }
   ],
   "source": [
    "a = np.random.random((4, 6))\n",
    "print(a)"
   ]
  },
  {
   "cell_type": "code",
   "execution_count": 22,
   "id": "0e54fd13",
   "metadata": {},
   "outputs": [
    {
     "name": "stdout",
     "output_type": "stream",
     "text": [
      "[[8 2 2 2 6 7 3 5 5 6]\n",
      " [6 4 2 6 1 1 5 1 7 3]]\n"
     ]
    }
   ],
   "source": [
    "a = np.random.randint(1, 9, size=(2, 10))\n",
    "print(a)"
   ]
  },
  {
   "cell_type": "code",
   "execution_count": 23,
   "id": "7404e454",
   "metadata": {},
   "outputs": [
    {
     "name": "stdout",
     "output_type": "stream",
     "text": [
      "[[-0.12804761  0.18639495  0.1705707  ...  0.5672867  -0.49467641\n",
      "   0.30431981]\n",
      " [ 0.58087901  0.55342523 -0.00304509 ...  0.01491253  0.73017614\n",
      "  -0.83854076]\n",
      " [-0.03938273  0.23379586 -0.50513369 ... -0.55735157 -0.31397126\n",
      "   0.07609401]\n",
      " ...\n",
      " [-0.1741635  -0.33376321 -0.01482697 ...  0.4091355  -0.2232288\n",
      "  -0.08295528]\n",
      " [-0.09581066 -0.03764567 -0.37923269 ...  0.46636349 -0.0825266\n",
      "  -0.00328703]\n",
      " [ 0.43223717  0.40620143  1.08420461 ... -0.65495243 -0.31188941\n",
      "   0.76811656]]\n",
      "Size:  10000\n",
      "Mean:  -0.002540440538038735\n",
      "Maximum value:  1.9031090999693898\n",
      "Minimum value:  -1.9522209300393625\n",
      "Positive numbers:  5020\n",
      "Negative numbers:  4980\n"
     ]
    }
   ],
   "source": [
    "a = np.random.normal(0, .5, size = (100, 100))\n",
    "print(a)\n",
    "print('Size: ', a.size)\n",
    "print('Mean: ', a.mean())\n",
    "print('Maximum value: ', a.max())\n",
    "print('Minimum value: ', a.min())\n",
    "print('Positive numbers: ', (a > 0).sum())\n",
    "print('Negative numbers: ', (a < 0).sum())"
   ]
  },
  {
   "cell_type": "markdown",
   "id": "662f0e09",
   "metadata": {},
   "source": [
    "## MODIFYING NUMPY ARRAYS"
   ]
  },
  {
   "cell_type": "code",
   "execution_count": 24,
   "id": "ac8cc054",
   "metadata": {},
   "outputs": [
    {
     "name": "stdout",
     "output_type": "stream",
     "text": [
      "[0 1 2 3 4 5 6 7 8 9]\n"
     ]
    }
   ],
   "source": [
    "x = np.arange(10)\n",
    "print(x)"
   ]
  },
  {
   "cell_type": "code",
   "execution_count": 25,
   "id": "46a28382",
   "metadata": {},
   "outputs": [
    {
     "name": "stdout",
     "output_type": "stream",
     "text": [
      "Index 0: 0    Index -1: 9\n",
      "Index 1: 1    Index -2: 8\n",
      "Index 2: 2    Index -3: 7\n",
      "Index 3: 3    Index -4: 6\n",
      "Index 4: 4    Index -5: 5\n",
      "Index 5: 5    Index -6: 4\n",
      "Index 6: 6    Index -7: 3\n",
      "Index 7: 7    Index -8: 2\n",
      "Index 8: 8    Index -9: 1\n",
      "Index 9: 9    Index -10: 0\n"
     ]
    }
   ],
   "source": [
    "x = np.arange(10)\n",
    "for index in range(10):\n",
    "    print('Index {}: {}'.format(index, x[index]),'  ', \\\n",
    "          'Index {}: {}'.format(-1 - index, x[-1 - index]))  #index from end of array starting at -1"
   ]
  },
  {
   "cell_type": "code",
   "execution_count": 26,
   "id": "454e4134",
   "metadata": {},
   "outputs": [
    {
     "name": "stdout",
     "output_type": "stream",
     "text": [
      "[[0 1]\n",
      " [2 3]\n",
      " [4 5]\n",
      " [6 7]\n",
      " [8 9]]\n",
      "\n",
      "Element in x at (3, 1) is:  7\n"
     ]
    }
   ],
   "source": [
    "x = x.reshape([5, 2])\n",
    "print(x)\n",
    "print('\\nElement in x at (3, 1) is: ', x[3, 1])"
   ]
  },
  {
   "cell_type": "code",
   "execution_count": 27,
   "id": "53d797f9",
   "metadata": {},
   "outputs": [
    {
     "name": "stdout",
     "output_type": "stream",
     "text": [
      "[[0 1]\n",
      " [2 3]\n",
      " [4 5]\n",
      " [6 7]\n",
      " [8 9]] \n",
      "\n",
      "[[  0   1]\n",
      " [  2   3]\n",
      " [  4   5]\n",
      " [  6   7]\n",
      " [  8 100]]\n"
     ]
    }
   ],
   "source": [
    "x = np.arange(10).reshape([5,2])\n",
    "print(x, '\\n')\n",
    "x[4, 1] = 100\n",
    "print(x)"
   ]
  },
  {
   "cell_type": "code",
   "execution_count": 28,
   "id": "94983c62",
   "metadata": {},
   "outputs": [
    {
     "name": "stdout",
     "output_type": "stream",
     "text": [
      "[0 1 2 3 4 5 6 7 8 9] \n",
      "\n",
      "[1 2 3 5 6 7 8 9] \n",
      "\n",
      "[[0 1]\n",
      " [2 3]\n",
      " [4 5]\n",
      " [6 7]\n",
      " [8 9]] \n",
      "\n",
      "[[0 1]\n",
      " [2 3]\n",
      " [6 7]\n",
      " [8 9]] \n",
      "\n",
      "[[0]\n",
      " [2]\n",
      " [4]\n",
      " [6]\n",
      " [8]] \n",
      "\n",
      "[[2 3]\n",
      " [4 5]\n",
      " [6 7]]\n"
     ]
    }
   ],
   "source": [
    "a = np.arange(10)\n",
    "b = a.reshape([5, 2])\n",
    "print(a, '\\n')\n",
    "w = np.delete(a, [0, 4])  #delete elements 0 and 4\n",
    "print(w, '\\n')\n",
    "print(b, '\\n')\n",
    "x = np.delete(b, 2, axis = 0) #delete third row of y\n",
    "print(x, '\\n')\n",
    "y = np.delete(b, 1, axis = 1) #delete first column of y\n",
    "print(y, '\\n')\n",
    "z = np.delete(b, [0, 4], axis = 0) #delete first and last row of y\n",
    "print(z)"
   ]
  },
  {
   "cell_type": "markdown",
   "id": "f50feee5",
   "metadata": {},
   "source": [
    "### APPEND\n",
    "numpy.append(array, values, axis=None)"
   ]
  },
  {
   "cell_type": "code",
   "execution_count": 29,
   "id": "974357a1",
   "metadata": {},
   "outputs": [
    {
     "name": "stdout",
     "output_type": "stream",
     "text": [
      "[0 1 2 3 4 5 6 7 8 9] \n",
      "\n"
     ]
    }
   ],
   "source": [
    "a = np.arange(10)\n",
    "b = a.reshape([5, 2])\n",
    "print(a, '\\n')"
   ]
  },
  {
   "cell_type": "code",
   "execution_count": 30,
   "id": "ccdc3cb2",
   "metadata": {},
   "outputs": [
    {
     "name": "stdout",
     "output_type": "stream",
     "text": [
      "[0 1 2 3 4 5 6 7 8 9]\n",
      "[ 0  1  2  3  4  5  6  7  8  9 10]\n"
     ]
    }
   ],
   "source": [
    "print(a)\n",
    "x = np.append(a, 10)  #append an element\n",
    "print(x)"
   ]
  },
  {
   "cell_type": "code",
   "execution_count": null,
   "id": "737bd2c8",
   "metadata": {},
   "outputs": [],
   "source": []
  },
  {
   "cell_type": "code",
   "execution_count": 31,
   "id": "27b7573d",
   "metadata": {},
   "outputs": [
    {
     "name": "stdout",
     "output_type": "stream",
     "text": [
      "[ 0  1  2  3  4  5  6  7  8  9 10 11 12 13 14 15 16 17 18 19]\n"
     ]
    }
   ],
   "source": [
    "x = np.append(a, np.arange(10, 15))\n",
    "x = np.append(x, [15, 16, 17, 18, 19])\n",
    "print(x)"
   ]
  },
  {
   "cell_type": "code",
   "execution_count": 32,
   "id": "b609082e",
   "metadata": {},
   "outputs": [
    {
     "name": "stdout",
     "output_type": "stream",
     "text": [
      "[[0 1]\n",
      " [2 3]\n",
      " [4 5]\n",
      " [6 7]\n",
      " [8 9]] \n",
      "\n",
      "[[ 0  1]\n",
      " [ 2  3]\n",
      " [ 4  5]\n",
      " [ 6  7]\n",
      " [ 8  9]\n",
      " [10 11]] \n",
      "\n",
      "[[ 0  1 10]\n",
      " [ 2  3 11]\n",
      " [ 4  5 12]\n",
      " [ 6  7 13]\n",
      " [ 8  9 14]]\n"
     ]
    }
   ],
   "source": [
    "print(b, '\\n')\n",
    "y = np.append(b, [[10, 11]], axis = 0)\n",
    "print(y, '\\n')\n",
    "z = np.append(b, [[10], [11], [12], [13], [14]], axis = 1)\n",
    "print(z)"
   ]
  },
  {
   "cell_type": "markdown",
   "id": "b08a08d6",
   "metadata": {},
   "source": [
    "### INSERT"
   ]
  },
  {
   "cell_type": "code",
   "execution_count": 33,
   "id": "e87ee31f",
   "metadata": {},
   "outputs": [
    {
     "name": "stdout",
     "output_type": "stream",
     "text": [
      "[1 2 5 6 7] \n",
      "\n",
      " [[1 2 3]\n",
      " [7 8 9]]\n"
     ]
    }
   ],
   "source": [
    "a = np.array([1, 2, 5, 6, 7])\n",
    "b = np.array([[1, 2, 3], [7, 8, 9]])\n",
    "print(a, '\\n\\n', b)"
   ]
  },
  {
   "cell_type": "code",
   "execution_count": 34,
   "id": "e715776c",
   "metadata": {},
   "outputs": [
    {
     "name": "stdout",
     "output_type": "stream",
     "text": [
      "[1 2 3 4 5 6 7]\n"
     ]
    }
   ],
   "source": [
    "x = np.insert(a, 2, [3, 4])\n",
    "print(x)"
   ]
  },
  {
   "cell_type": "code",
   "execution_count": 35,
   "id": "dd93e939",
   "metadata": {},
   "outputs": [
    {
     "name": "stdout",
     "output_type": "stream",
     "text": [
      "[[1 2 3]\n",
      " [4 5 6]\n",
      " [7 8 9]]\n"
     ]
    }
   ],
   "source": [
    "y = np.insert(b, 1, [4, 5, 6], axis = 0)\n",
    "print(y)"
   ]
  },
  {
   "cell_type": "code",
   "execution_count": 36,
   "id": "8cb99ef4",
   "metadata": {},
   "outputs": [
    {
     "name": "stdout",
     "output_type": "stream",
     "text": [
      "[[1 5 2 3]\n",
      " [7 5 8 9]]\n"
     ]
    }
   ],
   "source": [
    "z = np.insert(b, 1, 5, axis = 1)  #insert a column of '5'\n",
    "print(z)"
   ]
  },
  {
   "cell_type": "markdown",
   "id": "f714bad4",
   "metadata": {},
   "source": [
    "### HSTACK AND VSTACK\n",
    "numpy.hstack(sequence_of_ndarray)<br>\n",
    "numpy.vstack(sequence_of_ndarray)"
   ]
  },
  {
   "cell_type": "code",
   "execution_count": 37,
   "id": "e575040c",
   "metadata": {},
   "outputs": [
    {
     "name": "stdout",
     "output_type": "stream",
     "text": [
      "[0 1] \n",
      "\n",
      " [[2 3]\n",
      " [4 5]]\n"
     ]
    }
   ],
   "source": [
    "a = np.arange(2)\n",
    "b = np.arange(2, 6).reshape([2, 2])\n",
    "print(a, '\\n\\n', b)"
   ]
  },
  {
   "cell_type": "code",
   "execution_count": 38,
   "id": "356a55b9",
   "metadata": {},
   "outputs": [
    {
     "name": "stdout",
     "output_type": "stream",
     "text": [
      "[[0 1]\n",
      " [2 3]\n",
      " [4 5]]\n"
     ]
    }
   ],
   "source": [
    "x = np.vstack((a, b))\n",
    "print(x)"
   ]
  },
  {
   "cell_type": "code",
   "execution_count": 39,
   "id": "01103ef0",
   "metadata": {},
   "outputs": [
    {
     "name": "stdout",
     "output_type": "stream",
     "text": [
      "[[0 2 3]\n",
      " [1 4 5]]\n"
     ]
    }
   ],
   "source": [
    "y = np.reshape(a, [2, 1])\n",
    "z = np.hstack((y, b))\n",
    "print(z)"
   ]
  },
  {
   "cell_type": "markdown",
   "id": "8708b60d",
   "metadata": {},
   "source": [
    "## BOOLEAN INDEXING, SET OPERATIONS, SORTING"
   ]
  },
  {
   "cell_type": "code",
   "execution_count": 40,
   "id": "fb29c6e8",
   "metadata": {},
   "outputs": [
    {
     "name": "stdout",
     "output_type": "stream",
     "text": [
      "[[ 0  1  2  3  4]\n",
      " [ 5  6  7  8  9]\n",
      " [10 11 12 13 14]\n",
      " [15 16 17 18 19]\n",
      " [20 21 22 23 24]]\n"
     ]
    }
   ],
   "source": [
    "a = np.arange(25).reshape([5,5])\n",
    "print(a)"
   ]
  },
  {
   "cell_type": "code",
   "execution_count": 41,
   "id": "1d2589fa",
   "metadata": {},
   "outputs": [
    {
     "name": "stdout",
     "output_type": "stream",
     "text": [
      "Elements greater than 10:  [11 12 13 14 15 16 17 18 19 20 21 22 23 24]\n",
      "Elements less than 10:  [0 1 2 3 4 5 6 7 8 9]\n",
      "Elements between 10 and 20:  [11 12 13 14 15 16 17 18 19]\n"
     ]
    }
   ],
   "source": [
    "print('Elements greater than 10: ', a[a > 10])\n",
    "print('Elements less than 10: ', a[a < 10])\n",
    "print('Elements between 10 and 20: ', a[(a > 10) & (a < 20)])"
   ]
  },
  {
   "cell_type": "code",
   "execution_count": 42,
   "id": "242590ff",
   "metadata": {},
   "outputs": [
    {
     "name": "stdout",
     "output_type": "stream",
     "text": [
      "[[ 0  1  2  3  4]\n",
      " [ 5  6  7  8  9]\n",
      " [-1 -1 -1 -1 -1]\n",
      " [15 16 17 18 19]\n",
      " [20 21 22 23 24]]\n"
     ]
    }
   ],
   "source": [
    "x = a\n",
    "x[(x >= 10) & (x <= 14)] = -1\n",
    "print(x)"
   ]
  },
  {
   "cell_type": "code",
   "execution_count": 43,
   "id": "ee8caaff",
   "metadata": {},
   "outputs": [
    {
     "name": "stdout",
     "output_type": "stream",
     "text": [
      "[0 1 2 3 4 5]    [4 5 6 7 8 9]\n",
      "Elements in both a and b:  [4 5]\n",
      "Elements in a but not b:  [0 1 2 3]\n",
      "All elements in a and b:  [0 1 2 3 4 5 6 7 8 9]\n"
     ]
    }
   ],
   "source": [
    "a = np.arange(6)\n",
    "b = np.arange(4, 10)\n",
    "print(a, '  ', b)\n",
    "print('Elements in both a and b: ', np.intersect1d(a, b))\n",
    "print('Elements in a but not b: ', np.setdiff1d(a, b))\n",
    "print('All elements in a and b: ', np.union1d(a, b))"
   ]
  },
  {
   "cell_type": "code",
   "execution_count": 44,
   "id": "1566268d",
   "metadata": {},
   "outputs": [
    {
     "name": "stdout",
     "output_type": "stream",
     "text": [
      "Original:  [1 9 3 0 7 0 9 3 4 4]\n",
      "Sorted out of place:  [0 0 1 3 3 4 4 7 9 9]\n",
      "After sorting:  [1 9 3 0 7 0 9 3 4 4]\n",
      "Unique items in a:  [0 1 3 4 7 9]\n"
     ]
    }
   ],
   "source": [
    "a = np.random.randint(0, 10, size = (10,))\n",
    "print('Original: ', a)\n",
    "print('Sorted out of place: ', np.sort(a))\n",
    "print('After sorting: ', a)\n",
    "print('Unique items in a: ', np.unique(a))"
   ]
  },
  {
   "cell_type": "code",
   "execution_count": 45,
   "id": "d7cef13d",
   "metadata": {},
   "outputs": [
    {
     "name": "stdout",
     "output_type": "stream",
     "text": [
      "Original:  [7 5 2 9 5 7 6 3 5 5]\n",
      "After sorting:  [7 5 2 9 5 7 6 3 5 5]\n",
      "Unique items in a:  [2 3 5 6 7 9]\n"
     ]
    }
   ],
   "source": [
    "a = np.random.randint(0, 10, size = (10,))\n",
    "print('Original: ', a)\n",
    "print('After sorting: ', a)\n",
    "print('Unique items in a: ', np.unique(a))"
   ]
  },
  {
   "cell_type": "markdown",
   "id": "548102fe",
   "metadata": {},
   "source": [
    "### NUMPY SORT\n",
    "numpy.sort(array, axis=-1, kind=None, order=None)"
   ]
  },
  {
   "cell_type": "code",
   "execution_count": null,
   "id": "2f516159",
   "metadata": {},
   "outputs": [],
   "source": []
  },
  {
   "cell_type": "code",
   "execution_count": 46,
   "id": "56890738",
   "metadata": {},
   "outputs": [
    {
     "name": "stdout",
     "output_type": "stream",
     "text": [
      "Original:\n",
      " [[1 1 6 1 5]\n",
      " [5 1 5 4 6]\n",
      " [5 1 6 4 7]\n",
      " [9 0 3 0 0]\n",
      " [8 6 3 3 1]]\n",
      "\n",
      "Sorted Columns:\n",
      " [[1 0 3 0 0]\n",
      " [5 1 3 1 1]\n",
      " [5 1 5 3 5]\n",
      " [8 1 6 4 6]\n",
      " [9 6 6 4 7]]\n",
      "\n",
      "Sorted Rows:\n",
      " [[1 1 1 5 6]\n",
      " [1 4 5 5 6]\n",
      " [1 4 5 6 7]\n",
      " [0 0 0 3 9]\n",
      " [1 3 3 6 8]]\n"
     ]
    }
   ],
   "source": [
    "a = np.random.randint(0, 10, size = (5,5))\n",
    "print('Original:\\n', a)\n",
    "print()\n",
    "print('Sorted Columns:\\n', np.sort(a, axis = 0))\n",
    "print()\n",
    "print('Sorted Rows:\\n', np.sort(a, axis = 1))"
   ]
  },
  {
   "cell_type": "markdown",
   "id": "6be2887c",
   "metadata": {},
   "source": [
    "## ARITHMETIC OPERATIONS ON ARRAYS AND BROADCASTING"
   ]
  },
  {
   "cell_type": "code",
   "execution_count": 50,
   "id": "59321d9d",
   "metadata": {},
   "outputs": [
    {
     "name": "stdout",
     "output_type": "stream",
     "text": [
      "a:  [0 1 2 3]\n",
      "b:  [5.5 6.5 7.5 8.5]\n"
     ]
    }
   ],
   "source": [
    "a = np.array([0, 1 , 2, 3])\n",
    "b = np.array([5.5, 6.5, 7.5, 8.5])\n",
    "print('a: ', a)\n",
    "print('b: ', b)"
   ]
  },
  {
   "cell_type": "code",
   "execution_count": 52,
   "id": "7b89d766",
   "metadata": {},
   "outputs": [
    {
     "name": "stdout",
     "output_type": "stream",
     "text": [
      "[ 5.5  7.5  9.5 11.5]\n",
      "[ 5.5  7.5  9.5 11.5]\n"
     ]
    }
   ],
   "source": [
    "print(a + b)\n",
    "print(np.add(a, b))"
   ]
  },
  {
   "cell_type": "code",
   "execution_count": 53,
   "id": "a8fa0c25",
   "metadata": {},
   "outputs": [
    {
     "name": "stdout",
     "output_type": "stream",
     "text": [
      "[-5.5 -5.5 -5.5 -5.5]\n",
      "[-5.5 -5.5 -5.5 -5.5]\n"
     ]
    }
   ],
   "source": [
    "print(a - b)\n",
    "print(np.subtract(a, b))"
   ]
  },
  {
   "cell_type": "code",
   "execution_count": 54,
   "id": "825d57fd",
   "metadata": {},
   "outputs": [
    {
     "name": "stdout",
     "output_type": "stream",
     "text": [
      "[ 0.   6.5 15.  25.5]\n",
      "[ 0.   6.5 15.  25.5]\n"
     ]
    }
   ],
   "source": [
    "print(a * b)\n",
    "print(np.multiply(a, b))"
   ]
  },
  {
   "cell_type": "code",
   "execution_count": 55,
   "id": "ef409597",
   "metadata": {},
   "outputs": [
    {
     "name": "stdout",
     "output_type": "stream",
     "text": [
      "[0.         0.15384615 0.26666667 0.35294118]\n",
      "[0.         0.15384615 0.26666667 0.35294118]\n"
     ]
    }
   ],
   "source": [
    "print(a / b)\n",
    "print(np.divide(a, b))"
   ]
  },
  {
   "cell_type": "code",
   "execution_count": 57,
   "id": "50acd726",
   "metadata": {},
   "outputs": [
    {
     "name": "stdout",
     "output_type": "stream",
     "text": [
      "[[0 1]\n",
      " [2 3]]\n"
     ]
    }
   ],
   "source": [
    "x = a.reshape([2, 2])\n",
    "print(x)"
   ]
  },
  {
   "cell_type": "code",
   "execution_count": 60,
   "id": "05d5f058",
   "metadata": {},
   "outputs": [
    {
     "name": "stdout",
     "output_type": "stream",
     "text": [
      "[[0 2]\n",
      " [4 6]]\n",
      "\n",
      "[[0 0]\n",
      " [0 0]]\n",
      "\n",
      "[[0 1]\n",
      " [4 9]]\n"
     ]
    }
   ],
   "source": [
    "print(x + x)\n",
    "print()\n",
    "print(x - x)\n",
    "print()\n",
    "print(x * x)\n",
    "#print(x / x)"
   ]
  },
  {
   "cell_type": "code",
   "execution_count": 62,
   "id": "27897ad7",
   "metadata": {},
   "outputs": [
    {
     "name": "stdout",
     "output_type": "stream",
     "text": [
      "a =  [0 1 2 3 4]\n",
      "EXP(a) =  [ 1.          2.71828183  7.3890561  20.08553692 54.59815003]\n",
      "SQRT(a) =  1.4142135623730951\n",
      "POW(a, 2) =  [ 0  1  4  9 16]\n"
     ]
    }
   ],
   "source": [
    "a = np.arange(5)\n",
    "print('a = ', a)\n",
    "print('EXP(a) = ', np.exp(a))\n",
    "print('SQRT(a) = ', np.sqrt(2))\n",
    "print('POW(a, 2) = ', np.power(a, 2))"
   ]
  },
  {
   "cell_type": "markdown",
   "id": "1d4cb7b5",
   "metadata": {},
   "source": [
    "### STATISTICAL FUNCTIONS\n",
    "mean, sum, std, median, max, min"
   ]
  },
  {
   "cell_type": "code",
   "execution_count": 63,
   "id": "0ada73bd",
   "metadata": {},
   "outputs": [
    {
     "name": "stdout",
     "output_type": "stream",
     "text": [
      "[[1 2]\n",
      " [3 4]]\n"
     ]
    }
   ],
   "source": [
    "a = np.arange(1, 5).reshape([2,2])\n",
    "print(a)"
   ]
  },
  {
   "cell_type": "code",
   "execution_count": 66,
   "id": "91419eac",
   "metadata": {},
   "outputs": [
    {
     "name": "stdout",
     "output_type": "stream",
     "text": [
      "Average of all elements:\n",
      " 2.5\n",
      "Average of all elements by column:\n",
      " [2. 3.]\n",
      "Average of all elements by row:\n",
      " [1.5 3.5]\n"
     ]
    }
   ],
   "source": [
    "print('Average of all elements:\\n', np.mean(a))\n",
    "print('Average of all elements by column:\\n', np.mean(a, axis = 0))\n",
    "print('Average of all elements by row:\\n', np.mean(a, axis = 1))"
   ]
  },
  {
   "cell_type": "markdown",
   "id": "a54fa6cf",
   "metadata": {},
   "source": [
    "### CHANGE VALUE OF ALL ARRAY ELEMENTS"
   ]
  },
  {
   "cell_type": "code",
   "execution_count": 68,
   "id": "2d063edf",
   "metadata": {},
   "outputs": [
    {
     "name": "stdout",
     "output_type": "stream",
     "text": [
      "[[1 2]\n",
      " [3 4]]\n",
      "\n",
      "[[ 3  6]\n",
      " [ 9 12]]\n"
     ]
    }
   ],
   "source": [
    "a = np.arange(1, 5).reshape([2,2])\n",
    "print(a)\n",
    "print()\n",
    "print(3 * a)"
   ]
  },
  {
   "cell_type": "code",
   "execution_count": 70,
   "id": "28f626e4",
   "metadata": {},
   "outputs": [
    {
     "name": "stdout",
     "output_type": "stream",
     "text": [
      "[[1 2 3]\n",
      " [4 5 6]\n",
      " [7 8 9]]\n",
      "\n",
      "[1 2 3]\n",
      "\n",
      "[[1]\n",
      " [2]\n",
      " [3]]\n"
     ]
    }
   ],
   "source": [
    "a = np.arange(1, 10).reshape([3,3])\n",
    "b = np.arange(1, 4)\n",
    "c = np.arange(1, 4).reshape([3, 1])\n",
    "print(a)\n",
    "print()\n",
    "print(b)\n",
    "print()\n",
    "print(c)"
   ]
  },
  {
   "cell_type": "code",
   "execution_count": 72,
   "id": "d63928e4",
   "metadata": {},
   "outputs": [
    {
     "name": "stdout",
     "output_type": "stream",
     "text": [
      "a + b:\n",
      " [[ 2  4  6]\n",
      " [ 5  7  9]\n",
      " [ 8 10 12]]\n"
     ]
    }
   ],
   "source": [
    "print('a + b:\\n', a + b)"
   ]
  },
  {
   "cell_type": "code",
   "execution_count": 73,
   "id": "4a9720eb",
   "metadata": {},
   "outputs": [
    {
     "name": "stdout",
     "output_type": "stream",
     "text": [
      "a + c:\n",
      " [[ 2  3  4]\n",
      " [ 6  7  8]\n",
      " [10 11 12]]\n"
     ]
    }
   ],
   "source": [
    "print('a + c:\\n', a + c)"
   ]
  }
 ],
 "metadata": {
  "kernelspec": {
   "display_name": "Python 3",
   "language": "python",
   "name": "python3"
  },
  "language_info": {
   "codemirror_mode": {
    "name": "ipython",
    "version": 3
   },
   "file_extension": ".py",
   "mimetype": "text/x-python",
   "name": "python",
   "nbconvert_exporter": "python",
   "pygments_lexer": "ipython3",
   "version": "3.8.10"
  }
 },
 "nbformat": 4,
 "nbformat_minor": 5
}
