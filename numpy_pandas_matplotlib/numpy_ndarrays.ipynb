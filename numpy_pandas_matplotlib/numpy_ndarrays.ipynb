{
 "cells": [
  {
   "cell_type": "markdown",
   "id": "7e6b3e07",
   "metadata": {},
   "source": [
    "### NUMPY BASICS"
   ]
  },
  {
   "cell_type": "code",
   "execution_count": 2,
   "id": "985ebe82",
   "metadata": {},
   "outputs": [],
   "source": [
    "import numpy as np"
   ]
  },
  {
   "cell_type": "code",
   "execution_count": 3,
   "id": "16768c62",
   "metadata": {},
   "outputs": [
    {
     "name": "stdout",
     "output_type": "stream",
     "text": [
      "x:  [0 1 2 3 4]\n",
      "x dimensions:  1\n",
      "x type:  <class 'numpy.ndarray'>\n",
      "x element types:  int32\n"
     ]
    }
   ],
   "source": [
    "x = np.array([0, 1, 2, 3, 4])\n",
    "print('x: ', x)\n",
    "print('x dimensions: ', x.ndim)\n",
    "print('x type: ', type(x))\n",
    "print('x element types: ', x.dtype)"
   ]
  },
  {
   "cell_type": "code",
   "execution_count": 4,
   "id": "7fa80472",
   "metadata": {},
   "outputs": [
    {
     "name": "stdout",
     "output_type": "stream",
     "text": [
      "y:\n",
      " [[ 0  1  2]\n",
      " [ 3  4  5]\n",
      " [ 6  7  8]\n",
      " [ 9 10 11]]\n",
      "y dimensions:  2\n",
      "y shape:  (4, 3)\n",
      "y has a total of  12  elements\n",
      "y type:  <class 'numpy.ndarray'>\n",
      "y element types:  int32\n"
     ]
    }
   ],
   "source": [
    "y = np.array([[0, 1, 2], [3, 4, 5], [6, 7, 8], [9, 10, 11]])\n",
    "print('y:\\n', y)\n",
    "print('y dimensions: ', y.ndim)\n",
    "print('y shape: ', y.shape)\n",
    "print('y has a total of ', y.size, ' elements')\n",
    "print('y type: ', type(y))\n",
    "print('y element types: ', y.dtype)"
   ]
  },
  {
   "cell_type": "markdown",
   "id": "cf89ad37",
   "metadata": {},
   "source": [
    "Create array specifying the datatype (dtype) of the elements"
   ]
  },
  {
   "cell_type": "code",
   "execution_count": 5,
   "id": "fb11b7aa",
   "metadata": {},
   "outputs": [
    {
     "name": "stdout",
     "output_type": "stream",
     "text": [
      "x:  [0. 1. 2. 3. 4.]\n",
      "The elements in x are of type:  float64\n"
     ]
    }
   ],
   "source": [
    "x = np.array([0, 1, 2, 3, 4], dtype = np.float64)\n",
    "print('x: ', x)\n",
    "print('The elements in x are of type: ', x.dtype)"
   ]
  },
  {
   "cell_type": "markdown",
   "id": "2973f101",
   "metadata": {},
   "source": [
    "Save a NumPy array to a file."
   ]
  },
  {
   "cell_type": "code",
   "execution_count": 6,
   "id": "24e1eaa8",
   "metadata": {},
   "outputs": [],
   "source": [
    "np.save('my_array', y)"
   ]
  },
  {
   "cell_type": "markdown",
   "id": "0e16af5d",
   "metadata": {},
   "source": [
    "Load saved array from current directory"
   ]
  },
  {
   "cell_type": "code",
   "execution_count": 7,
   "id": "0c638763",
   "metadata": {},
   "outputs": [
    {
     "name": "stdout",
     "output_type": "stream",
     "text": [
      "\n",
      "z =\n",
      " [[ 0  1  2]\n",
      " [ 3  4  5]\n",
      " [ 6  7  8]\n",
      " [ 9 10 11]] \n",
      "\n",
      "z is an object of type:  <class 'numpy.ndarray'>\n",
      "The elements in z are type:  int32\n"
     ]
    }
   ],
   "source": [
    "z = np.load('my_array.npy')\n",
    "print('\\nz =\\n', z, '\\n')\n",
    "print('z is an object of type: ', type(z))\n",
    "print('The elements in z are type: ', z.dtype)"
   ]
  },
  {
   "cell_type": "markdown",
   "id": "f42702bb",
   "metadata": {},
   "source": [
    "### MULTI-DIMENSIONAL ARRAYS IN NUMPY\n",
    "Indexing arrays in numpy [NUM_ROWS][NUM_COLUMNS]"
   ]
  },
  {
   "cell_type": "code",
   "execution_count": 16,
   "id": "630ffe92",
   "metadata": {},
   "outputs": [
    {
     "name": "stdout",
     "output_type": "stream",
     "text": [
      "a =\n",
      " [[0. 0. 0. 0.]\n",
      " [0. 0. 0. 0.]\n",
      " [0. 0. 0. 0.]]\n",
      "a has shape:  (3, 4)\n",
      "a is an object of type: <class 'numpy.ndarray'>\n",
      "The elements in a are of type: float64\n"
     ]
    }
   ],
   "source": [
    "a = np.zeros((3,4))\n",
    "print('a =\\n', a)\n",
    "print('a has shape: ', a.shape)\n",
    "print('a is an object of type:', type(x))\n",
    "print('The elements in a are of type:', a.dtype)"
   ]
  },
  {
   "cell_type": "code",
   "execution_count": 19,
   "id": "5255fce6",
   "metadata": {},
   "outputs": [
    {
     "name": "stdout",
     "output_type": "stream",
     "text": [
      "a =\n",
      " [[1 1]\n",
      " [1 1]\n",
      " [1 1]\n",
      " [1 1]\n",
      " [1 1]]\n",
      "a has shape:  (5, 2)\n",
      "a is an object of type: <class 'numpy.ndarray'>\n",
      "The elements in a are of type: int64\n"
     ]
    }
   ],
   "source": [
    "a = np.ones((5,2), dtype = np.int64)\n",
    "print('a =\\n', a)\n",
    "print('a has shape: ', a.shape)\n",
    "print('a is an object of type:', type(x))\n",
    "print('The elements in a are of type:', a.dtype)"
   ]
  },
  {
   "cell_type": "code",
   "execution_count": 20,
   "id": "9f29244a",
   "metadata": {},
   "outputs": [
    {
     "name": "stdout",
     "output_type": "stream",
     "text": [
      "a =\n",
      " [[10 10 10]\n",
      " [10 10 10]]\n",
      "a has shape:  (2, 3)\n",
      "a is an object of type: <class 'numpy.ndarray'>\n",
      "The elements in a are of type: int32\n"
     ]
    }
   ],
   "source": [
    "a = np.full((2,3), 10)\n",
    "print('a =\\n', a)\n",
    "print('a has shape: ', a.shape)\n",
    "print('a is an object of type:', type(x))\n",
    "print('The elements in a are of type:', a.dtype)"
   ]
  },
  {
   "cell_type": "code",
   "execution_count": 21,
   "id": "8a9b9d28",
   "metadata": {},
   "outputs": [
    {
     "name": "stdout",
     "output_type": "stream",
     "text": [
      "a =\n",
      " [[1. 0. 0. 0. 0. 0. 0.]\n",
      " [0. 1. 0. 0. 0. 0. 0.]\n",
      " [0. 0. 1. 0. 0. 0. 0.]\n",
      " [0. 0. 0. 1. 0. 0. 0.]\n",
      " [0. 0. 0. 0. 1. 0. 0.]\n",
      " [0. 0. 0. 0. 0. 1. 0.]\n",
      " [0. 0. 0. 0. 0. 0. 1.]]\n",
      "a has shape:  (7, 7)\n",
      "a is an object of type: <class 'numpy.ndarray'>\n",
      "The elements in a are of type: float64\n"
     ]
    }
   ],
   "source": [
    "a = np.eye(7)\n",
    "print('a =\\n', a)\n",
    "print('a has shape: ', a.shape)\n",
    "print('a is an object of type:', type(x))\n",
    "print('The elements in a are of type:', a.dtype)"
   ]
  },
  {
   "cell_type": "code",
   "execution_count": 22,
   "id": "dfcec443",
   "metadata": {},
   "outputs": [
    {
     "name": "stdout",
     "output_type": "stream",
     "text": [
      "a =\n",
      " [[0 0 0 0 0]\n",
      " [0 1 0 0 0]\n",
      " [0 0 2 0 0]\n",
      " [0 0 0 3 0]\n",
      " [0 0 0 0 4]]\n",
      "a has shape:  (5, 5)\n",
      "a is an object of type: <class 'numpy.ndarray'>\n",
      "The elements in a are of type: int32\n"
     ]
    }
   ],
   "source": [
    "a = np.diag([0, 1, 2, 3, 4])\n",
    "print('a =\\n', a)\n",
    "print('a has shape: ', a.shape)\n",
    "print('a is an object of type:', type(x))\n",
    "print('The elements in a are of type:', a.dtype)"
   ]
  },
  {
   "cell_type": "markdown",
   "id": "84f22b81",
   "metadata": {},
   "source": [
    "### ARANGE\n",
    "numpy.arange([start, ]stop, [step, ]dtype=None)"
   ]
  },
  {
   "cell_type": "code",
   "execution_count": 24,
   "id": "471028f4",
   "metadata": {},
   "outputs": [
    {
     "name": "stdout",
     "output_type": "stream",
     "text": [
      "a =\n",
      " [0 1 2 3 4 5 6 7 8 9]\n",
      "a has shape:  (10,)\n",
      "a is an object of type: <class 'numpy.ndarray'>\n",
      "The elements in a are of type: int32\n"
     ]
    }
   ],
   "source": [
    "a = np.arange(10)\n",
    "print('a =\\n', a)\n",
    "print('a has shape: ', a.shape)\n",
    "print('a is an object of type:', type(x))\n",
    "print('The elements in a are of type:', a.dtype)"
   ]
  },
  {
   "cell_type": "code",
   "execution_count": 25,
   "id": "23905af6",
   "metadata": {},
   "outputs": [
    {
     "name": "stdout",
     "output_type": "stream",
     "text": [
      "a =\n",
      " [1 2 3 4 5 6 7 8]\n",
      "a has shape:  (8,)\n",
      "a is an object of type: <class 'numpy.ndarray'>\n",
      "The elements in a are of type: int32\n"
     ]
    }
   ],
   "source": [
    "a = np.arange(1, 9)\n",
    "print('a =\\n', a)\n",
    "print('a has shape: ', a.shape)\n",
    "print('a is an object of type:', type(x))\n",
    "print('The elements in a are of type:', a.dtype)"
   ]
  },
  {
   "cell_type": "code",
   "execution_count": 26,
   "id": "72b69a30",
   "metadata": {},
   "outputs": [
    {
     "name": "stdout",
     "output_type": "stream",
     "text": [
      "a =\n",
      " [ 1  4  7 10 13]\n",
      "a has shape:  (5,)\n",
      "a is an object of type: <class 'numpy.ndarray'>\n",
      "The elements in a are of type: int32\n"
     ]
    }
   ],
   "source": [
    "a = np.arange(1, 14, 3)\n",
    "print('a =\\n', a)\n",
    "print('a has shape: ', a.shape)\n",
    "print('a is an object of type:', type(x))\n",
    "print('The elements in a are of type:', a.dtype)"
   ]
  },
  {
   "cell_type": "markdown",
   "id": "3647a09a",
   "metadata": {},
   "source": [
    "### LINSPACE\n",
    "numpy.linspace(start, stop, num=50, endpoint=True, retstep=False, dtype=None, axis=0)"
   ]
  },
  {
   "cell_type": "code",
   "execution_count": 28,
   "id": "9054671d",
   "metadata": {},
   "outputs": [
    {
     "name": "stdout",
     "output_type": "stream",
     "text": [
      "a =\n",
      " [ 0.          2.77777778  5.55555556  8.33333333 11.11111111 13.88888889\n",
      " 16.66666667 19.44444444 22.22222222 25.        ]\n",
      "a has shape:  (10,)\n",
      "a is an object of type: <class 'numpy.ndarray'>\n",
      "The elements in a are of type: float64\n"
     ]
    }
   ],
   "source": [
    "a = np.linspace(0, 25, 10)\n",
    "print('a =\\n', a)\n",
    "print('a has shape: ', a.shape)\n",
    "print('a is an object of type:', type(x))\n",
    "print('The elements in a are of type:', a.dtype)"
   ]
  },
  {
   "cell_type": "code",
   "execution_count": 29,
   "id": "b4c74f02",
   "metadata": {},
   "outputs": [
    {
     "name": "stdout",
     "output_type": "stream",
     "text": [
      "a =\n",
      " [ 0.   2.5  5.   7.5 10.  12.5 15.  17.5 20.  22.5]\n",
      "a has shape:  (10,)\n",
      "a is an object of type: <class 'numpy.ndarray'>\n",
      "The elements in a are of type: float64\n"
     ]
    }
   ],
   "source": [
    "a = np.linspace(0, 25, 10, endpoint = False)\n",
    "print('a =\\n', a)\n",
    "print('a has shape: ', a.shape)\n",
    "print('a is an object of type:', type(x))\n",
    "print('The elements in a are of type:', a.dtype)"
   ]
  },
  {
   "cell_type": "markdown",
   "id": "4aa05971",
   "metadata": {},
   "source": [
    "### RESHAPE\n",
    "numpy.reshape(array, newshape, order='C')[source]"
   ]
  },
  {
   "cell_type": "code",
   "execution_count": 30,
   "id": "7984c53d",
   "metadata": {},
   "outputs": [
    {
     "name": "stdout",
     "output_type": "stream",
     "text": [
      "[ 0  1  2  3  4  5  6  7  8  9 10 11 12 13 14 15 16 17 18 19]\n"
     ]
    }
   ],
   "source": [
    "a = np.arange(20)\n",
    "print(a)"
   ]
  },
  {
   "cell_type": "code",
   "execution_count": 32,
   "id": "57f9fe54",
   "metadata": {},
   "outputs": [
    {
     "name": "stdout",
     "output_type": "stream",
     "text": [
      "[[ 0  1  2  3  4]\n",
      " [ 5  6  7  8  9]\n",
      " [10 11 12 13 14]\n",
      " [15 16 17 18 19]]\n"
     ]
    }
   ],
   "source": [
    "a = np.reshape(a, [4,5])\n",
    "print(a)"
   ]
  },
  {
   "cell_type": "code",
   "execution_count": 34,
   "id": "eaa3ecf9",
   "metadata": {},
   "outputs": [
    {
     "name": "stdout",
     "output_type": "stream",
     "text": [
      "[[ 0  1]\n",
      " [ 2  3]\n",
      " [ 4  5]\n",
      " [ 6  7]\n",
      " [ 8  9]\n",
      " [10 11]\n",
      " [12 13]\n",
      " [14 15]\n",
      " [16 17]\n",
      " [18 19]]\n",
      "a has shape:  (10, 2)\n",
      "a is an object of type: <class 'numpy.ndarray'>\n",
      "The elements in a are of type: int32\n"
     ]
    }
   ],
   "source": [
    "a = np.reshape(a, [10, 2])\n",
    "print(a)\n",
    "print('a has shape: ', a.shape)\n",
    "print('a is an object of type:', type(x))\n",
    "print('The elements in a are of type:', a.dtype)"
   ]
  },
  {
   "cell_type": "code",
   "execution_count": 37,
   "id": "3e4c6eca",
   "metadata": {},
   "outputs": [
    {
     "name": "stdout",
     "output_type": "stream",
     "text": [
      "[[0 0 0 0 0]\n",
      " [0 2 0 0 0]\n",
      " [0 0 4 0 0]\n",
      " [0 0 0 6 0]\n",
      " [0 0 0 0 8]]\n"
     ]
    }
   ],
   "source": [
    "a = np.diag(np.arange(0, 10, 2))\n",
    "print(a)"
   ]
  },
  {
   "cell_type": "markdown",
   "id": "1aa243c4",
   "metadata": {},
   "source": [
    "### NUMPY RANDOM FUNCTIONS"
   ]
  },
  {
   "cell_type": "code",
   "execution_count": 39,
   "id": "c8fc4725",
   "metadata": {},
   "outputs": [
    {
     "name": "stdout",
     "output_type": "stream",
     "text": [
      "[[0.29209074 0.50871176 0.83472431 0.901799   0.71623433 0.53223911]\n",
      " [0.35499908 0.18773567 0.77904673 0.36905441 0.77553461 0.13793199]\n",
      " [0.30595264 0.58481978 0.77539154 0.65264916 0.43151194 0.48064779]\n",
      " [0.34109382 0.31131296 0.00278631 0.92875234 0.42685454 0.06384759]]\n"
     ]
    }
   ],
   "source": [
    "a = np.random.random((4, 6))\n",
    "print(a)"
   ]
  },
  {
   "cell_type": "code",
   "execution_count": 40,
   "id": "0e54fd13",
   "metadata": {},
   "outputs": [
    {
     "name": "stdout",
     "output_type": "stream",
     "text": [
      "[[6 2 7 2 5 8 7 4 5 2]\n",
      " [6 6 5 4 3 4 3 6 6 1]]\n"
     ]
    }
   ],
   "source": [
    "a = np.random.randint(1, 9, size=(2, 10))\n",
    "print(a)"
   ]
  },
  {
   "cell_type": "code",
   "execution_count": 45,
   "id": "7404e454",
   "metadata": {},
   "outputs": [
    {
     "name": "stdout",
     "output_type": "stream",
     "text": [
      "[[ 0.13928167 -0.19579643  0.61656231 ...  0.21874742  0.54899173\n",
      "   0.71265308]\n",
      " [ 1.25321585  0.05985776 -0.26652487 ... -0.07203501 -0.62395191\n",
      "   0.5121138 ]\n",
      " [ 0.23036111  0.08717425 -0.44319963 ...  0.40719962 -0.32818732\n",
      "  -0.08023412]\n",
      " ...\n",
      " [-0.25312007  0.48077573 -0.04185594 ...  0.2102754   0.07552488\n",
      "  -0.24564416]\n",
      " [-0.49866477  0.71258124  0.37843627 ...  0.53461277  0.87266625\n",
      "  -0.16974612]\n",
      " [-0.40936582 -0.21064339  0.14135052 ... -0.8335794  -0.91331635\n",
      "   0.57258004]]\n",
      "Size:  10000\n",
      "Mean:  -0.0008490933051549515\n",
      "Maximum value:  1.817920823736869\n",
      "Minimum value:  -1.8101200208030397\n",
      "Positive numbers:  4997\n",
      "Negative numbers:  5003\n"
     ]
    }
   ],
   "source": [
    "a = np.random.normal(0, .5, size = (100, 100))\n",
    "print(a)\n",
    "print('Size: ', a.size)\n",
    "print('Mean: ', a.mean())\n",
    "print('Maximum value: ', a.max())\n",
    "print('Minimum value: ', a.min())\n",
    "print('Positive numbers: ', (a > 0).sum())\n",
    "print('Negative numbers: ', (a < 0).sum())"
   ]
  }
 ],
 "metadata": {
  "kernelspec": {
   "display_name": "Python 3",
   "language": "python",
   "name": "python3"
  },
  "language_info": {
   "codemirror_mode": {
    "name": "ipython",
    "version": 3
   },
   "file_extension": ".py",
   "mimetype": "text/x-python",
   "name": "python",
   "nbconvert_exporter": "python",
   "pygments_lexer": "ipython3",
   "version": "3.8.10"
  }
 },
 "nbformat": 4,
 "nbformat_minor": 5
}
