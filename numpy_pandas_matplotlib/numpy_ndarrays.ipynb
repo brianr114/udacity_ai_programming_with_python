{
 "cells": [
  {
   "cell_type": "code",
   "execution_count": 1,
   "id": "985ebe82",
   "metadata": {},
   "outputs": [],
   "source": [
    "import numpy as nd"
   ]
  },
  {
   "cell_type": "code",
   "execution_count": 13,
   "id": "16768c62",
   "metadata": {},
   "outputs": [
    {
     "name": "stdout",
     "output_type": "stream",
     "text": [
      "x:\n",
      " [0 1 2 3 4]\n",
      "x dimensions:  1\n",
      "x type:  <class 'numpy.ndarray'>\n",
      "x element types:  int32\n"
     ]
    }
   ],
   "source": [
    "x = nd.array([0, 1, 2, 3, 4])\n",
    "print('x:\\n', x)\n",
    "print('x dimensions: ', x.ndim)\n",
    "print('x type: ', type(x))\n",
    "print('x element types: ', x.dtype)"
   ]
  },
  {
   "cell_type": "code",
   "execution_count": 14,
   "id": "7fa80472",
   "metadata": {},
   "outputs": [
    {
     "name": "stdout",
     "output_type": "stream",
     "text": [
      "y:\n",
      " [[ 0  1  2]\n",
      " [ 3  4  5]\n",
      " [ 6  7  8]\n",
      " [ 9 10 11]]\n",
      "y dimensions:  2\n",
      "y type:  <class 'numpy.ndarray'>\n",
      "y element types:  int32\n"
     ]
    }
   ],
   "source": [
    "y = nd.array([[0, 1, 2], [3, 4, 5], [6, 7, 8], [9, 10, 11]])\n",
    "print('y:\\n', y)\n",
    "print('y dimensions: ', y.ndim)\n",
    "print('y type: ', type(y))\n",
    "print('y element types: ', y.dtype)"
   ]
  }
 ],
 "metadata": {
  "kernelspec": {
   "display_name": "Python 3",
   "language": "python",
   "name": "python3"
  },
  "language_info": {
   "codemirror_mode": {
    "name": "ipython",
    "version": 3
   },
   "file_extension": ".py",
   "mimetype": "text/x-python",
   "name": "python",
   "nbconvert_exporter": "python",
   "pygments_lexer": "ipython3",
   "version": "3.8.10"
  }
 },
 "nbformat": 4,
 "nbformat_minor": 5
}
